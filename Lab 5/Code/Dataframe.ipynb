{
 "cells": [
  {
   "cell_type": "code",
   "execution_count": 1,
   "id": "5a25a0e6",
   "metadata": {},
   "outputs": [],
   "source": [
    "import pandas as pd\n",
    "import numpy as np\n",
    "from numpy.random import randn\n",
    "from numpy.random import randint\n",
    "np.random.seed(101)"
   ]
  },
  {
   "cell_type": "code",
   "execution_count": 2,
   "id": "16784de1",
   "metadata": {},
   "outputs": [],
   "source": [
    "df=pd.DataFrame(randint(50,100, size=(5,4)), index='A B C D E'.split(),columns='W X Y Z'.split())"
   ]
  },
  {
   "cell_type": "code",
   "execution_count": 3,
   "id": "34bcc7f4",
   "metadata": {},
   "outputs": [],
   "source": [
    "df=pd.DataFrame(randn(5,4), index='A B C D E'.split(),columns='W X Y Z'.split())"
   ]
  },
  {
   "cell_type": "code",
   "execution_count": 4,
   "id": "f6b5f31a",
   "metadata": {},
   "outputs": [
    {
     "data": {
      "text/html": [
       "<div>\n",
       "<style scoped>\n",
       "    .dataframe tbody tr th:only-of-type {\n",
       "        vertical-align: middle;\n",
       "    }\n",
       "\n",
       "    .dataframe tbody tr th {\n",
       "        vertical-align: top;\n",
       "    }\n",
       "\n",
       "    .dataframe thead th {\n",
       "        text-align: right;\n",
       "    }\n",
       "</style>\n",
       "<table border=\"1\" class=\"dataframe\">\n",
       "  <thead>\n",
       "    <tr style=\"text-align: right;\">\n",
       "      <th></th>\n",
       "      <th>W</th>\n",
       "      <th>X</th>\n",
       "      <th>Y</th>\n",
       "      <th>Z</th>\n",
       "    </tr>\n",
       "  </thead>\n",
       "  <tbody>\n",
       "    <tr>\n",
       "      <th>A</th>\n",
       "      <td>0.069477</td>\n",
       "      <td>-0.365361</td>\n",
       "      <td>2.427666</td>\n",
       "      <td>1.023355</td>\n",
       "    </tr>\n",
       "    <tr>\n",
       "      <th>B</th>\n",
       "      <td>0.560075</td>\n",
       "      <td>0.140054</td>\n",
       "      <td>1.395623</td>\n",
       "      <td>-0.320914</td>\n",
       "    </tr>\n",
       "    <tr>\n",
       "      <th>C</th>\n",
       "      <td>1.279975</td>\n",
       "      <td>-0.170430</td>\n",
       "      <td>0.308047</td>\n",
       "      <td>-1.061808</td>\n",
       "    </tr>\n",
       "    <tr>\n",
       "      <th>D</th>\n",
       "      <td>-1.331713</td>\n",
       "      <td>2.084437</td>\n",
       "      <td>1.753258</td>\n",
       "      <td>-0.060464</td>\n",
       "    </tr>\n",
       "    <tr>\n",
       "      <th>E</th>\n",
       "      <td>0.707670</td>\n",
       "      <td>-1.084355</td>\n",
       "      <td>0.941276</td>\n",
       "      <td>1.301172</td>\n",
       "    </tr>\n",
       "  </tbody>\n",
       "</table>\n",
       "</div>"
      ],
      "text/plain": [
       "          W         X         Y         Z\n",
       "A  0.069477 -0.365361  2.427666  1.023355\n",
       "B  0.560075  0.140054  1.395623 -0.320914\n",
       "C  1.279975 -0.170430  0.308047 -1.061808\n",
       "D -1.331713  2.084437  1.753258 -0.060464\n",
       "E  0.707670 -1.084355  0.941276  1.301172"
      ]
     },
     "execution_count": 4,
     "metadata": {},
     "output_type": "execute_result"
    }
   ],
   "source": [
    "df"
   ]
  },
  {
   "cell_type": "markdown",
   "id": "5542722b",
   "metadata": {},
   "source": [
    "add new row"
   ]
  },
  {
   "cell_type": "code",
   "execution_count": 5,
   "id": "d35c1918",
   "metadata": {},
   "outputs": [],
   "source": [
    "new_row={'W':'0.123','X':'0.234','Y':'0.431','Z':'1.786'}"
   ]
  },
  {
   "cell_type": "markdown",
   "id": "fce0cc2f",
   "metadata": {},
   "source": [
    "adding row"
   ]
  },
  {
   "cell_type": "code",
   "execution_count": 6,
   "id": "5040a22b",
   "metadata": {},
   "outputs": [
    {
     "name": "stderr",
     "output_type": "stream",
     "text": [
      "C:\\Users\\USER\\AppData\\Local\\Temp\\ipykernel_16260\\4057965891.py:1: FutureWarning: The frame.append method is deprecated and will be removed from pandas in a future version. Use pandas.concat instead.\n",
      "  df=df.append(new_row, ignore_index=True)\n"
     ]
    }
   ],
   "source": [
    "df=df.append(new_row, ignore_index=True)"
   ]
  },
  {
   "cell_type": "code",
   "execution_count": 7,
   "id": "33624596",
   "metadata": {},
   "outputs": [
    {
     "data": {
      "text/html": [
       "<div>\n",
       "<style scoped>\n",
       "    .dataframe tbody tr th:only-of-type {\n",
       "        vertical-align: middle;\n",
       "    }\n",
       "\n",
       "    .dataframe tbody tr th {\n",
       "        vertical-align: top;\n",
       "    }\n",
       "\n",
       "    .dataframe thead th {\n",
       "        text-align: right;\n",
       "    }\n",
       "</style>\n",
       "<table border=\"1\" class=\"dataframe\">\n",
       "  <thead>\n",
       "    <tr style=\"text-align: right;\">\n",
       "      <th></th>\n",
       "      <th>W</th>\n",
       "      <th>X</th>\n",
       "      <th>Y</th>\n",
       "      <th>Z</th>\n",
       "    </tr>\n",
       "  </thead>\n",
       "  <tbody>\n",
       "    <tr>\n",
       "      <th>0</th>\n",
       "      <td>0.069477</td>\n",
       "      <td>-0.365361</td>\n",
       "      <td>2.427666</td>\n",
       "      <td>1.023355</td>\n",
       "    </tr>\n",
       "    <tr>\n",
       "      <th>1</th>\n",
       "      <td>0.560075</td>\n",
       "      <td>0.140054</td>\n",
       "      <td>1.395623</td>\n",
       "      <td>-0.320914</td>\n",
       "    </tr>\n",
       "    <tr>\n",
       "      <th>2</th>\n",
       "      <td>1.279975</td>\n",
       "      <td>-0.17043</td>\n",
       "      <td>0.308047</td>\n",
       "      <td>-1.061808</td>\n",
       "    </tr>\n",
       "    <tr>\n",
       "      <th>3</th>\n",
       "      <td>-1.331713</td>\n",
       "      <td>2.084437</td>\n",
       "      <td>1.753258</td>\n",
       "      <td>-0.060464</td>\n",
       "    </tr>\n",
       "    <tr>\n",
       "      <th>4</th>\n",
       "      <td>0.70767</td>\n",
       "      <td>-1.084355</td>\n",
       "      <td>0.941276</td>\n",
       "      <td>1.301172</td>\n",
       "    </tr>\n",
       "    <tr>\n",
       "      <th>5</th>\n",
       "      <td>0.123</td>\n",
       "      <td>0.234</td>\n",
       "      <td>0.431</td>\n",
       "      <td>1.786</td>\n",
       "    </tr>\n",
       "  </tbody>\n",
       "</table>\n",
       "</div>"
      ],
      "text/plain": [
       "          W         X         Y         Z\n",
       "0  0.069477 -0.365361  2.427666  1.023355\n",
       "1  0.560075  0.140054  1.395623 -0.320914\n",
       "2  1.279975  -0.17043  0.308047 -1.061808\n",
       "3 -1.331713  2.084437  1.753258 -0.060464\n",
       "4   0.70767 -1.084355  0.941276  1.301172\n",
       "5     0.123     0.234     0.431     1.786"
      ]
     },
     "execution_count": 7,
     "metadata": {},
     "output_type": "execute_result"
    }
   ],
   "source": [
    "df"
   ]
  },
  {
   "cell_type": "markdown",
   "id": "25f0b0a9",
   "metadata": {},
   "source": [
    "drop row"
   ]
  },
  {
   "cell_type": "code",
   "execution_count": 8,
   "id": "5a83d7e7",
   "metadata": {},
   "outputs": [
    {
     "data": {
      "text/html": [
       "<div>\n",
       "<style scoped>\n",
       "    .dataframe tbody tr th:only-of-type {\n",
       "        vertical-align: middle;\n",
       "    }\n",
       "\n",
       "    .dataframe tbody tr th {\n",
       "        vertical-align: top;\n",
       "    }\n",
       "\n",
       "    .dataframe thead th {\n",
       "        text-align: right;\n",
       "    }\n",
       "</style>\n",
       "<table border=\"1\" class=\"dataframe\">\n",
       "  <thead>\n",
       "    <tr style=\"text-align: right;\">\n",
       "      <th></th>\n",
       "      <th>W</th>\n",
       "      <th>X</th>\n",
       "      <th>Y</th>\n",
       "      <th>Z</th>\n",
       "    </tr>\n",
       "  </thead>\n",
       "  <tbody>\n",
       "    <tr>\n",
       "      <th>0</th>\n",
       "      <td>0.069477</td>\n",
       "      <td>-0.365361</td>\n",
       "      <td>2.427666</td>\n",
       "      <td>1.023355</td>\n",
       "    </tr>\n",
       "    <tr>\n",
       "      <th>1</th>\n",
       "      <td>0.560075</td>\n",
       "      <td>0.140054</td>\n",
       "      <td>1.395623</td>\n",
       "      <td>-0.320914</td>\n",
       "    </tr>\n",
       "    <tr>\n",
       "      <th>2</th>\n",
       "      <td>1.279975</td>\n",
       "      <td>-0.17043</td>\n",
       "      <td>0.308047</td>\n",
       "      <td>-1.061808</td>\n",
       "    </tr>\n",
       "    <tr>\n",
       "      <th>3</th>\n",
       "      <td>-1.331713</td>\n",
       "      <td>2.084437</td>\n",
       "      <td>1.753258</td>\n",
       "      <td>-0.060464</td>\n",
       "    </tr>\n",
       "    <tr>\n",
       "      <th>4</th>\n",
       "      <td>0.70767</td>\n",
       "      <td>-1.084355</td>\n",
       "      <td>0.941276</td>\n",
       "      <td>1.301172</td>\n",
       "    </tr>\n",
       "    <tr>\n",
       "      <th>5</th>\n",
       "      <td>0.123</td>\n",
       "      <td>0.234</td>\n",
       "      <td>0.431</td>\n",
       "      <td>1.786</td>\n",
       "    </tr>\n",
       "  </tbody>\n",
       "</table>\n",
       "</div>"
      ],
      "text/plain": [
       "          W         X         Y         Z\n",
       "0  0.069477 -0.365361  2.427666  1.023355\n",
       "1  0.560075  0.140054  1.395623 -0.320914\n",
       "2  1.279975  -0.17043  0.308047 -1.061808\n",
       "3 -1.331713  2.084437  1.753258 -0.060464\n",
       "4   0.70767 -1.084355  0.941276  1.301172\n",
       "5     0.123     0.234     0.431     1.786"
      ]
     },
     "execution_count": 8,
     "metadata": {},
     "output_type": "execute_result"
    }
   ],
   "source": [
    "df"
   ]
  },
  {
   "cell_type": "code",
   "execution_count": 9,
   "id": "9c30d3ee",
   "metadata": {},
   "outputs": [
    {
     "data": {
      "text/html": [
       "<div>\n",
       "<style scoped>\n",
       "    .dataframe tbody tr th:only-of-type {\n",
       "        vertical-align: middle;\n",
       "    }\n",
       "\n",
       "    .dataframe tbody tr th {\n",
       "        vertical-align: top;\n",
       "    }\n",
       "\n",
       "    .dataframe thead th {\n",
       "        text-align: right;\n",
       "    }\n",
       "</style>\n",
       "<table border=\"1\" class=\"dataframe\">\n",
       "  <thead>\n",
       "    <tr style=\"text-align: right;\">\n",
       "      <th></th>\n",
       "      <th>W</th>\n",
       "      <th>X</th>\n",
       "      <th>Y</th>\n",
       "      <th>Z</th>\n",
       "    </tr>\n",
       "  </thead>\n",
       "  <tbody>\n",
       "    <tr>\n",
       "      <th>0</th>\n",
       "      <td>0.069477</td>\n",
       "      <td>-0.365361</td>\n",
       "      <td>2.427666</td>\n",
       "      <td>1.023355</td>\n",
       "    </tr>\n",
       "    <tr>\n",
       "      <th>1</th>\n",
       "      <td>0.560075</td>\n",
       "      <td>0.140054</td>\n",
       "      <td>1.395623</td>\n",
       "      <td>-0.320914</td>\n",
       "    </tr>\n",
       "    <tr>\n",
       "      <th>2</th>\n",
       "      <td>1.279975</td>\n",
       "      <td>-0.17043</td>\n",
       "      <td>0.308047</td>\n",
       "      <td>-1.061808</td>\n",
       "    </tr>\n",
       "    <tr>\n",
       "      <th>3</th>\n",
       "      <td>-1.331713</td>\n",
       "      <td>2.084437</td>\n",
       "      <td>1.753258</td>\n",
       "      <td>-0.060464</td>\n",
       "    </tr>\n",
       "    <tr>\n",
       "      <th>4</th>\n",
       "      <td>0.70767</td>\n",
       "      <td>-1.084355</td>\n",
       "      <td>0.941276</td>\n",
       "      <td>1.301172</td>\n",
       "    </tr>\n",
       "  </tbody>\n",
       "</table>\n",
       "</div>"
      ],
      "text/plain": [
       "          W         X         Y         Z\n",
       "0  0.069477 -0.365361  2.427666  1.023355\n",
       "1  0.560075  0.140054  1.395623 -0.320914\n",
       "2  1.279975  -0.17043  0.308047 -1.061808\n",
       "3 -1.331713  2.084437  1.753258 -0.060464\n",
       "4   0.70767 -1.084355  0.941276  1.301172"
      ]
     },
     "execution_count": 9,
     "metadata": {},
     "output_type": "execute_result"
    }
   ],
   "source": [
    "df.drop(5,axis=0)"
   ]
  },
  {
   "cell_type": "code",
   "execution_count": 10,
   "id": "608d3c4e",
   "metadata": {},
   "outputs": [
    {
     "data": {
      "text/html": [
       "<div>\n",
       "<style scoped>\n",
       "    .dataframe tbody tr th:only-of-type {\n",
       "        vertical-align: middle;\n",
       "    }\n",
       "\n",
       "    .dataframe tbody tr th {\n",
       "        vertical-align: top;\n",
       "    }\n",
       "\n",
       "    .dataframe thead th {\n",
       "        text-align: right;\n",
       "    }\n",
       "</style>\n",
       "<table border=\"1\" class=\"dataframe\">\n",
       "  <thead>\n",
       "    <tr style=\"text-align: right;\">\n",
       "      <th></th>\n",
       "      <th>W</th>\n",
       "      <th>X</th>\n",
       "      <th>Y</th>\n",
       "      <th>Z</th>\n",
       "    </tr>\n",
       "  </thead>\n",
       "  <tbody>\n",
       "    <tr>\n",
       "      <th>0</th>\n",
       "      <td>0.069477</td>\n",
       "      <td>-0.365361</td>\n",
       "      <td>2.427666</td>\n",
       "      <td>1.023355</td>\n",
       "    </tr>\n",
       "    <tr>\n",
       "      <th>1</th>\n",
       "      <td>0.560075</td>\n",
       "      <td>0.140054</td>\n",
       "      <td>1.395623</td>\n",
       "      <td>-0.320914</td>\n",
       "    </tr>\n",
       "    <tr>\n",
       "      <th>2</th>\n",
       "      <td>1.279975</td>\n",
       "      <td>-0.17043</td>\n",
       "      <td>0.308047</td>\n",
       "      <td>-1.061808</td>\n",
       "    </tr>\n",
       "    <tr>\n",
       "      <th>3</th>\n",
       "      <td>-1.331713</td>\n",
       "      <td>2.084437</td>\n",
       "      <td>1.753258</td>\n",
       "      <td>-0.060464</td>\n",
       "    </tr>\n",
       "    <tr>\n",
       "      <th>4</th>\n",
       "      <td>0.70767</td>\n",
       "      <td>-1.084355</td>\n",
       "      <td>0.941276</td>\n",
       "      <td>1.301172</td>\n",
       "    </tr>\n",
       "    <tr>\n",
       "      <th>5</th>\n",
       "      <td>0.123</td>\n",
       "      <td>0.234</td>\n",
       "      <td>0.431</td>\n",
       "      <td>1.786</td>\n",
       "    </tr>\n",
       "  </tbody>\n",
       "</table>\n",
       "</div>"
      ],
      "text/plain": [
       "          W         X         Y         Z\n",
       "0  0.069477 -0.365361  2.427666  1.023355\n",
       "1  0.560075  0.140054  1.395623 -0.320914\n",
       "2  1.279975  -0.17043  0.308047 -1.061808\n",
       "3 -1.331713  2.084437  1.753258 -0.060464\n",
       "4   0.70767 -1.084355  0.941276  1.301172\n",
       "5     0.123     0.234     0.431     1.786"
      ]
     },
     "execution_count": 10,
     "metadata": {},
     "output_type": "execute_result"
    }
   ],
   "source": [
    "df"
   ]
  },
  {
   "cell_type": "code",
   "execution_count": 11,
   "id": "9464858d",
   "metadata": {},
   "outputs": [],
   "source": [
    "df.drop(5,axis=0, inplace=True)"
   ]
  },
  {
   "cell_type": "code",
   "execution_count": 12,
   "id": "915632e9",
   "metadata": {},
   "outputs": [
    {
     "data": {
      "text/html": [
       "<div>\n",
       "<style scoped>\n",
       "    .dataframe tbody tr th:only-of-type {\n",
       "        vertical-align: middle;\n",
       "    }\n",
       "\n",
       "    .dataframe tbody tr th {\n",
       "        vertical-align: top;\n",
       "    }\n",
       "\n",
       "    .dataframe thead th {\n",
       "        text-align: right;\n",
       "    }\n",
       "</style>\n",
       "<table border=\"1\" class=\"dataframe\">\n",
       "  <thead>\n",
       "    <tr style=\"text-align: right;\">\n",
       "      <th></th>\n",
       "      <th>W</th>\n",
       "      <th>X</th>\n",
       "      <th>Y</th>\n",
       "      <th>Z</th>\n",
       "    </tr>\n",
       "  </thead>\n",
       "  <tbody>\n",
       "    <tr>\n",
       "      <th>0</th>\n",
       "      <td>0.069477</td>\n",
       "      <td>-0.365361</td>\n",
       "      <td>2.427666</td>\n",
       "      <td>1.023355</td>\n",
       "    </tr>\n",
       "    <tr>\n",
       "      <th>1</th>\n",
       "      <td>0.560075</td>\n",
       "      <td>0.140054</td>\n",
       "      <td>1.395623</td>\n",
       "      <td>-0.320914</td>\n",
       "    </tr>\n",
       "    <tr>\n",
       "      <th>2</th>\n",
       "      <td>1.279975</td>\n",
       "      <td>-0.17043</td>\n",
       "      <td>0.308047</td>\n",
       "      <td>-1.061808</td>\n",
       "    </tr>\n",
       "    <tr>\n",
       "      <th>3</th>\n",
       "      <td>-1.331713</td>\n",
       "      <td>2.084437</td>\n",
       "      <td>1.753258</td>\n",
       "      <td>-0.060464</td>\n",
       "    </tr>\n",
       "    <tr>\n",
       "      <th>4</th>\n",
       "      <td>0.70767</td>\n",
       "      <td>-1.084355</td>\n",
       "      <td>0.941276</td>\n",
       "      <td>1.301172</td>\n",
       "    </tr>\n",
       "  </tbody>\n",
       "</table>\n",
       "</div>"
      ],
      "text/plain": [
       "          W         X         Y         Z\n",
       "0  0.069477 -0.365361  2.427666  1.023355\n",
       "1  0.560075  0.140054  1.395623 -0.320914\n",
       "2  1.279975  -0.17043  0.308047 -1.061808\n",
       "3 -1.331713  2.084437  1.753258 -0.060464\n",
       "4   0.70767 -1.084355  0.941276  1.301172"
      ]
     },
     "execution_count": 12,
     "metadata": {},
     "output_type": "execute_result"
    }
   ],
   "source": [
    "df"
   ]
  },
  {
   "cell_type": "markdown",
   "id": "2485a43d",
   "metadata": {},
   "source": [
    "Select rows"
   ]
  },
  {
   "cell_type": "code",
   "execution_count": 13,
   "id": "2d6ed9d2",
   "metadata": {},
   "outputs": [
    {
     "data": {
      "text/plain": [
       "W   -1.331713\n",
       "X    2.084437\n",
       "Y    1.753258\n",
       "Z   -0.060464\n",
       "Name: 3, dtype: object"
      ]
     },
     "execution_count": 13,
     "metadata": {},
     "output_type": "execute_result"
    }
   ],
   "source": [
    "#df.loc['A']#rowname = A, ekhane nai that why num lagbe\n",
    "df.iloc[3]#index location"
   ]
  },
  {
   "cell_type": "markdown",
   "id": "6f82c59c",
   "metadata": {},
   "source": [
    "column"
   ]
  },
  {
   "cell_type": "code",
   "execution_count": 14,
   "id": "eca036ca",
   "metadata": {},
   "outputs": [
    {
     "data": {
      "text/plain": [
       "0    0.069477\n",
       "1    0.560075\n",
       "2    1.279975\n",
       "3   -1.331713\n",
       "4     0.70767\n",
       "Name: W, dtype: object"
      ]
     },
     "execution_count": 14,
     "metadata": {},
     "output_type": "execute_result"
    }
   ],
   "source": [
    "df['W'] #select col"
   ]
  },
  {
   "cell_type": "code",
   "execution_count": 15,
   "id": "18841e7c",
   "metadata": {},
   "outputs": [
    {
     "data": {
      "text/html": [
       "<div>\n",
       "<style scoped>\n",
       "    .dataframe tbody tr th:only-of-type {\n",
       "        vertical-align: middle;\n",
       "    }\n",
       "\n",
       "    .dataframe tbody tr th {\n",
       "        vertical-align: top;\n",
       "    }\n",
       "\n",
       "    .dataframe thead th {\n",
       "        text-align: right;\n",
       "    }\n",
       "</style>\n",
       "<table border=\"1\" class=\"dataframe\">\n",
       "  <thead>\n",
       "    <tr style=\"text-align: right;\">\n",
       "      <th></th>\n",
       "      <th>W</th>\n",
       "      <th>X</th>\n",
       "      <th>Z</th>\n",
       "    </tr>\n",
       "  </thead>\n",
       "  <tbody>\n",
       "    <tr>\n",
       "      <th>0</th>\n",
       "      <td>0.069477</td>\n",
       "      <td>-0.365361</td>\n",
       "      <td>1.023355</td>\n",
       "    </tr>\n",
       "    <tr>\n",
       "      <th>1</th>\n",
       "      <td>0.560075</td>\n",
       "      <td>0.140054</td>\n",
       "      <td>-0.320914</td>\n",
       "    </tr>\n",
       "    <tr>\n",
       "      <th>2</th>\n",
       "      <td>1.279975</td>\n",
       "      <td>-0.17043</td>\n",
       "      <td>-1.061808</td>\n",
       "    </tr>\n",
       "    <tr>\n",
       "      <th>3</th>\n",
       "      <td>-1.331713</td>\n",
       "      <td>2.084437</td>\n",
       "      <td>-0.060464</td>\n",
       "    </tr>\n",
       "    <tr>\n",
       "      <th>4</th>\n",
       "      <td>0.70767</td>\n",
       "      <td>-1.084355</td>\n",
       "      <td>1.301172</td>\n",
       "    </tr>\n",
       "  </tbody>\n",
       "</table>\n",
       "</div>"
      ],
      "text/plain": [
       "          W         X         Z\n",
       "0  0.069477 -0.365361  1.023355\n",
       "1  0.560075  0.140054 -0.320914\n",
       "2  1.279975  -0.17043 -1.061808\n",
       "3 -1.331713  2.084437 -0.060464\n",
       "4   0.70767 -1.084355  1.301172"
      ]
     },
     "execution_count": 15,
     "metadata": {},
     "output_type": "execute_result"
    }
   ],
   "source": [
    "df[['W','X','Z']] #select multiple col"
   ]
  },
  {
   "cell_type": "code",
   "execution_count": 16,
   "id": "8a6931c3",
   "metadata": {},
   "outputs": [
    {
     "data": {
      "text/plain": [
       "pandas.core.series.Series"
      ]
     },
     "execution_count": 16,
     "metadata": {},
     "output_type": "execute_result"
    }
   ],
   "source": [
    "type(df['W']) #type of col"
   ]
  },
  {
   "cell_type": "code",
   "execution_count": 17,
   "id": "e1db9aa7",
   "metadata": {},
   "outputs": [],
   "source": [
    "df['new']=df['W']+df['X'] #add col"
   ]
  },
  {
   "cell_type": "code",
   "execution_count": 18,
   "id": "453a4b79",
   "metadata": {},
   "outputs": [
    {
     "data": {
      "text/html": [
       "<div>\n",
       "<style scoped>\n",
       "    .dataframe tbody tr th:only-of-type {\n",
       "        vertical-align: middle;\n",
       "    }\n",
       "\n",
       "    .dataframe tbody tr th {\n",
       "        vertical-align: top;\n",
       "    }\n",
       "\n",
       "    .dataframe thead th {\n",
       "        text-align: right;\n",
       "    }\n",
       "</style>\n",
       "<table border=\"1\" class=\"dataframe\">\n",
       "  <thead>\n",
       "    <tr style=\"text-align: right;\">\n",
       "      <th></th>\n",
       "      <th>W</th>\n",
       "      <th>X</th>\n",
       "      <th>Y</th>\n",
       "      <th>Z</th>\n",
       "      <th>new</th>\n",
       "    </tr>\n",
       "  </thead>\n",
       "  <tbody>\n",
       "    <tr>\n",
       "      <th>0</th>\n",
       "      <td>0.069477</td>\n",
       "      <td>-0.365361</td>\n",
       "      <td>2.427666</td>\n",
       "      <td>1.023355</td>\n",
       "      <td>-0.295884</td>\n",
       "    </tr>\n",
       "    <tr>\n",
       "      <th>1</th>\n",
       "      <td>0.560075</td>\n",
       "      <td>0.140054</td>\n",
       "      <td>1.395623</td>\n",
       "      <td>-0.320914</td>\n",
       "      <td>0.700129</td>\n",
       "    </tr>\n",
       "    <tr>\n",
       "      <th>2</th>\n",
       "      <td>1.279975</td>\n",
       "      <td>-0.17043</td>\n",
       "      <td>0.308047</td>\n",
       "      <td>-1.061808</td>\n",
       "      <td>1.109545</td>\n",
       "    </tr>\n",
       "    <tr>\n",
       "      <th>3</th>\n",
       "      <td>-1.331713</td>\n",
       "      <td>2.084437</td>\n",
       "      <td>1.753258</td>\n",
       "      <td>-0.060464</td>\n",
       "      <td>0.752724</td>\n",
       "    </tr>\n",
       "    <tr>\n",
       "      <th>4</th>\n",
       "      <td>0.70767</td>\n",
       "      <td>-1.084355</td>\n",
       "      <td>0.941276</td>\n",
       "      <td>1.301172</td>\n",
       "      <td>-0.376685</td>\n",
       "    </tr>\n",
       "  </tbody>\n",
       "</table>\n",
       "</div>"
      ],
      "text/plain": [
       "          W         X         Y         Z       new\n",
       "0  0.069477 -0.365361  2.427666  1.023355 -0.295884\n",
       "1  0.560075  0.140054  1.395623 -0.320914  0.700129\n",
       "2  1.279975  -0.17043  0.308047 -1.061808  1.109545\n",
       "3 -1.331713  2.084437  1.753258 -0.060464  0.752724\n",
       "4   0.70767 -1.084355  0.941276  1.301172 -0.376685"
      ]
     },
     "execution_count": 18,
     "metadata": {},
     "output_type": "execute_result"
    }
   ],
   "source": [
    "df"
   ]
  },
  {
   "cell_type": "code",
   "execution_count": 19,
   "id": "3d22570f",
   "metadata": {},
   "outputs": [
    {
     "data": {
      "text/html": [
       "<div>\n",
       "<style scoped>\n",
       "    .dataframe tbody tr th:only-of-type {\n",
       "        vertical-align: middle;\n",
       "    }\n",
       "\n",
       "    .dataframe tbody tr th {\n",
       "        vertical-align: top;\n",
       "    }\n",
       "\n",
       "    .dataframe thead th {\n",
       "        text-align: right;\n",
       "    }\n",
       "</style>\n",
       "<table border=\"1\" class=\"dataframe\">\n",
       "  <thead>\n",
       "    <tr style=\"text-align: right;\">\n",
       "      <th></th>\n",
       "      <th>W</th>\n",
       "      <th>X</th>\n",
       "      <th>Y</th>\n",
       "      <th>Z</th>\n",
       "    </tr>\n",
       "  </thead>\n",
       "  <tbody>\n",
       "    <tr>\n",
       "      <th>0</th>\n",
       "      <td>0.069477</td>\n",
       "      <td>-0.365361</td>\n",
       "      <td>2.427666</td>\n",
       "      <td>1.023355</td>\n",
       "    </tr>\n",
       "    <tr>\n",
       "      <th>1</th>\n",
       "      <td>0.560075</td>\n",
       "      <td>0.140054</td>\n",
       "      <td>1.395623</td>\n",
       "      <td>-0.320914</td>\n",
       "    </tr>\n",
       "    <tr>\n",
       "      <th>2</th>\n",
       "      <td>1.279975</td>\n",
       "      <td>-0.17043</td>\n",
       "      <td>0.308047</td>\n",
       "      <td>-1.061808</td>\n",
       "    </tr>\n",
       "    <tr>\n",
       "      <th>3</th>\n",
       "      <td>-1.331713</td>\n",
       "      <td>2.084437</td>\n",
       "      <td>1.753258</td>\n",
       "      <td>-0.060464</td>\n",
       "    </tr>\n",
       "    <tr>\n",
       "      <th>4</th>\n",
       "      <td>0.70767</td>\n",
       "      <td>-1.084355</td>\n",
       "      <td>0.941276</td>\n",
       "      <td>1.301172</td>\n",
       "    </tr>\n",
       "  </tbody>\n",
       "</table>\n",
       "</div>"
      ],
      "text/plain": [
       "          W         X         Y         Z\n",
       "0  0.069477 -0.365361  2.427666  1.023355\n",
       "1  0.560075  0.140054  1.395623 -0.320914\n",
       "2  1.279975  -0.17043  0.308047 -1.061808\n",
       "3 -1.331713  2.084437  1.753258 -0.060464\n",
       "4   0.70767 -1.084355  0.941276  1.301172"
      ]
     },
     "execution_count": 19,
     "metadata": {},
     "output_type": "execute_result"
    }
   ],
   "source": [
    "df.drop('new', axis=1)"
   ]
  },
  {
   "cell_type": "code",
   "execution_count": 20,
   "id": "dfacc84b",
   "metadata": {},
   "outputs": [
    {
     "data": {
      "text/html": [
       "<div>\n",
       "<style scoped>\n",
       "    .dataframe tbody tr th:only-of-type {\n",
       "        vertical-align: middle;\n",
       "    }\n",
       "\n",
       "    .dataframe tbody tr th {\n",
       "        vertical-align: top;\n",
       "    }\n",
       "\n",
       "    .dataframe thead th {\n",
       "        text-align: right;\n",
       "    }\n",
       "</style>\n",
       "<table border=\"1\" class=\"dataframe\">\n",
       "  <thead>\n",
       "    <tr style=\"text-align: right;\">\n",
       "      <th></th>\n",
       "      <th>W</th>\n",
       "      <th>X</th>\n",
       "      <th>Y</th>\n",
       "      <th>Z</th>\n",
       "      <th>new</th>\n",
       "    </tr>\n",
       "  </thead>\n",
       "  <tbody>\n",
       "    <tr>\n",
       "      <th>0</th>\n",
       "      <td>0.069477</td>\n",
       "      <td>-0.365361</td>\n",
       "      <td>2.427666</td>\n",
       "      <td>1.023355</td>\n",
       "      <td>-0.295884</td>\n",
       "    </tr>\n",
       "    <tr>\n",
       "      <th>1</th>\n",
       "      <td>0.560075</td>\n",
       "      <td>0.140054</td>\n",
       "      <td>1.395623</td>\n",
       "      <td>-0.320914</td>\n",
       "      <td>0.700129</td>\n",
       "    </tr>\n",
       "    <tr>\n",
       "      <th>2</th>\n",
       "      <td>1.279975</td>\n",
       "      <td>-0.17043</td>\n",
       "      <td>0.308047</td>\n",
       "      <td>-1.061808</td>\n",
       "      <td>1.109545</td>\n",
       "    </tr>\n",
       "    <tr>\n",
       "      <th>3</th>\n",
       "      <td>-1.331713</td>\n",
       "      <td>2.084437</td>\n",
       "      <td>1.753258</td>\n",
       "      <td>-0.060464</td>\n",
       "      <td>0.752724</td>\n",
       "    </tr>\n",
       "    <tr>\n",
       "      <th>4</th>\n",
       "      <td>0.70767</td>\n",
       "      <td>-1.084355</td>\n",
       "      <td>0.941276</td>\n",
       "      <td>1.301172</td>\n",
       "      <td>-0.376685</td>\n",
       "    </tr>\n",
       "  </tbody>\n",
       "</table>\n",
       "</div>"
      ],
      "text/plain": [
       "          W         X         Y         Z       new\n",
       "0  0.069477 -0.365361  2.427666  1.023355 -0.295884\n",
       "1  0.560075  0.140054  1.395623 -0.320914  0.700129\n",
       "2  1.279975  -0.17043  0.308047 -1.061808  1.109545\n",
       "3 -1.331713  2.084437  1.753258 -0.060464  0.752724\n",
       "4   0.70767 -1.084355  0.941276  1.301172 -0.376685"
      ]
     },
     "execution_count": 20,
     "metadata": {},
     "output_type": "execute_result"
    }
   ],
   "source": [
    "df"
   ]
  },
  {
   "cell_type": "code",
   "execution_count": 21,
   "id": "8343d448",
   "metadata": {},
   "outputs": [],
   "source": [
    "df.drop('X',axis=1, inplace=True)"
   ]
  },
  {
   "cell_type": "code",
   "execution_count": 22,
   "id": "797ed255",
   "metadata": {},
   "outputs": [
    {
     "data": {
      "text/html": [
       "<div>\n",
       "<style scoped>\n",
       "    .dataframe tbody tr th:only-of-type {\n",
       "        vertical-align: middle;\n",
       "    }\n",
       "\n",
       "    .dataframe tbody tr th {\n",
       "        vertical-align: top;\n",
       "    }\n",
       "\n",
       "    .dataframe thead th {\n",
       "        text-align: right;\n",
       "    }\n",
       "</style>\n",
       "<table border=\"1\" class=\"dataframe\">\n",
       "  <thead>\n",
       "    <tr style=\"text-align: right;\">\n",
       "      <th></th>\n",
       "      <th>W</th>\n",
       "      <th>Y</th>\n",
       "      <th>Z</th>\n",
       "      <th>new</th>\n",
       "    </tr>\n",
       "  </thead>\n",
       "  <tbody>\n",
       "    <tr>\n",
       "      <th>0</th>\n",
       "      <td>0.069477</td>\n",
       "      <td>2.427666</td>\n",
       "      <td>1.023355</td>\n",
       "      <td>-0.295884</td>\n",
       "    </tr>\n",
       "    <tr>\n",
       "      <th>1</th>\n",
       "      <td>0.560075</td>\n",
       "      <td>1.395623</td>\n",
       "      <td>-0.320914</td>\n",
       "      <td>0.700129</td>\n",
       "    </tr>\n",
       "    <tr>\n",
       "      <th>2</th>\n",
       "      <td>1.279975</td>\n",
       "      <td>0.308047</td>\n",
       "      <td>-1.061808</td>\n",
       "      <td>1.109545</td>\n",
       "    </tr>\n",
       "    <tr>\n",
       "      <th>3</th>\n",
       "      <td>-1.331713</td>\n",
       "      <td>1.753258</td>\n",
       "      <td>-0.060464</td>\n",
       "      <td>0.752724</td>\n",
       "    </tr>\n",
       "    <tr>\n",
       "      <th>4</th>\n",
       "      <td>0.70767</td>\n",
       "      <td>0.941276</td>\n",
       "      <td>1.301172</td>\n",
       "      <td>-0.376685</td>\n",
       "    </tr>\n",
       "  </tbody>\n",
       "</table>\n",
       "</div>"
      ],
      "text/plain": [
       "          W         Y         Z       new\n",
       "0  0.069477  2.427666  1.023355 -0.295884\n",
       "1  0.560075  1.395623 -0.320914  0.700129\n",
       "2  1.279975  0.308047 -1.061808  1.109545\n",
       "3 -1.331713  1.753258 -0.060464  0.752724\n",
       "4   0.70767  0.941276  1.301172 -0.376685"
      ]
     },
     "execution_count": 22,
     "metadata": {},
     "output_type": "execute_result"
    }
   ],
   "source": [
    "df"
   ]
  },
  {
   "cell_type": "markdown",
   "id": "63270957",
   "metadata": {},
   "source": [
    "select specific row & col"
   ]
  },
  {
   "cell_type": "code",
   "execution_count": 23,
   "id": "f52b5b0f",
   "metadata": {},
   "outputs": [
    {
     "data": {
      "text/html": [
       "<div>\n",
       "<style scoped>\n",
       "    .dataframe tbody tr th:only-of-type {\n",
       "        vertical-align: middle;\n",
       "    }\n",
       "\n",
       "    .dataframe tbody tr th {\n",
       "        vertical-align: top;\n",
       "    }\n",
       "\n",
       "    .dataframe thead th {\n",
       "        text-align: right;\n",
       "    }\n",
       "</style>\n",
       "<table border=\"1\" class=\"dataframe\">\n",
       "  <thead>\n",
       "    <tr style=\"text-align: right;\">\n",
       "      <th></th>\n",
       "      <th>Y</th>\n",
       "      <th>Z</th>\n",
       "    </tr>\n",
       "  </thead>\n",
       "  <tbody>\n",
       "    <tr>\n",
       "      <th>1</th>\n",
       "      <td>1.395623</td>\n",
       "      <td>-0.320914</td>\n",
       "    </tr>\n",
       "    <tr>\n",
       "      <th>2</th>\n",
       "      <td>0.308047</td>\n",
       "      <td>-1.061808</td>\n",
       "    </tr>\n",
       "  </tbody>\n",
       "</table>\n",
       "</div>"
      ],
      "text/plain": [
       "          Y         Z\n",
       "1  1.395623 -0.320914\n",
       "2  0.308047 -1.061808"
      ]
     },
     "execution_count": 23,
     "metadata": {},
     "output_type": "execute_result"
    }
   ],
   "source": [
    "df.iloc[[1,2],[1,2]]"
   ]
  },
  {
   "cell_type": "code",
   "execution_count": 24,
   "id": "2e90d549",
   "metadata": {},
   "outputs": [
    {
     "data": {
      "text/html": [
       "<div>\n",
       "<style scoped>\n",
       "    .dataframe tbody tr th:only-of-type {\n",
       "        vertical-align: middle;\n",
       "    }\n",
       "\n",
       "    .dataframe tbody tr th {\n",
       "        vertical-align: top;\n",
       "    }\n",
       "\n",
       "    .dataframe thead th {\n",
       "        text-align: right;\n",
       "    }\n",
       "</style>\n",
       "<table border=\"1\" class=\"dataframe\">\n",
       "  <thead>\n",
       "    <tr style=\"text-align: right;\">\n",
       "      <th></th>\n",
       "      <th>W</th>\n",
       "      <th>Z</th>\n",
       "    </tr>\n",
       "  </thead>\n",
       "  <tbody>\n",
       "    <tr>\n",
       "      <th>1</th>\n",
       "      <td>0.560075</td>\n",
       "      <td>-0.320914</td>\n",
       "    </tr>\n",
       "    <tr>\n",
       "      <th>2</th>\n",
       "      <td>1.279975</td>\n",
       "      <td>-1.061808</td>\n",
       "    </tr>\n",
       "  </tbody>\n",
       "</table>\n",
       "</div>"
      ],
      "text/plain": [
       "          W         Z\n",
       "1  0.560075 -0.320914\n",
       "2  1.279975 -1.061808"
      ]
     },
     "execution_count": 24,
     "metadata": {},
     "output_type": "execute_result"
    }
   ],
   "source": [
    "df.loc[[1,2],['W','Z']]"
   ]
  },
  {
   "cell_type": "code",
   "execution_count": 25,
   "id": "6de9f241",
   "metadata": {},
   "outputs": [
    {
     "data": {
      "text/html": [
       "<div>\n",
       "<style scoped>\n",
       "    .dataframe tbody tr th:only-of-type {\n",
       "        vertical-align: middle;\n",
       "    }\n",
       "\n",
       "    .dataframe tbody tr th {\n",
       "        vertical-align: top;\n",
       "    }\n",
       "\n",
       "    .dataframe thead th {\n",
       "        text-align: right;\n",
       "    }\n",
       "</style>\n",
       "<table border=\"1\" class=\"dataframe\">\n",
       "  <thead>\n",
       "    <tr style=\"text-align: right;\">\n",
       "      <th></th>\n",
       "      <th>Y</th>\n",
       "      <th>Z</th>\n",
       "    </tr>\n",
       "  </thead>\n",
       "  <tbody>\n",
       "    <tr>\n",
       "      <th>1</th>\n",
       "      <td>1.395623</td>\n",
       "      <td>-0.320914</td>\n",
       "    </tr>\n",
       "    <tr>\n",
       "      <th>3</th>\n",
       "      <td>1.753258</td>\n",
       "      <td>-0.060464</td>\n",
       "    </tr>\n",
       "  </tbody>\n",
       "</table>\n",
       "</div>"
      ],
      "text/plain": [
       "          Y         Z\n",
       "1  1.395623 -0.320914\n",
       "3  1.753258 -0.060464"
      ]
     },
     "execution_count": 25,
     "metadata": {},
     "output_type": "execute_result"
    }
   ],
   "source": [
    "df.loc[[1,3],['Y','Z']]"
   ]
  },
  {
   "cell_type": "code",
   "execution_count": 26,
   "id": "f31ed3ac",
   "metadata": {},
   "outputs": [
    {
     "data": {
      "text/plain": [
       "(2, 2)"
      ]
     },
     "execution_count": 26,
     "metadata": {},
     "output_type": "execute_result"
    }
   ],
   "source": [
    "df.loc[[1,3],['Y','Z']].shape #shape nite\n",
    "#df2=uporer\n",
    "#df2.shape[0]->row, df2[1].shape[1]-> col"
   ]
  },
  {
   "cell_type": "markdown",
   "id": "1719e1ae",
   "metadata": {},
   "source": [
    "# Conditional Selection"
   ]
  },
  {
   "cell_type": "markdown",
   "id": "fc41d226",
   "metadata": {},
   "source": [
    "an importatnt fearture of pandas is conditional selection using bracket notation, very similar to numpy"
   ]
  },
  {
   "cell_type": "code",
   "execution_count": 27,
   "id": "c6ecb678",
   "metadata": {},
   "outputs": [
    {
     "data": {
      "text/html": [
       "<div>\n",
       "<style scoped>\n",
       "    .dataframe tbody tr th:only-of-type {\n",
       "        vertical-align: middle;\n",
       "    }\n",
       "\n",
       "    .dataframe tbody tr th {\n",
       "        vertical-align: top;\n",
       "    }\n",
       "\n",
       "    .dataframe thead th {\n",
       "        text-align: right;\n",
       "    }\n",
       "</style>\n",
       "<table border=\"1\" class=\"dataframe\">\n",
       "  <thead>\n",
       "    <tr style=\"text-align: right;\">\n",
       "      <th></th>\n",
       "      <th>W</th>\n",
       "      <th>Y</th>\n",
       "      <th>Z</th>\n",
       "      <th>new</th>\n",
       "    </tr>\n",
       "  </thead>\n",
       "  <tbody>\n",
       "    <tr>\n",
       "      <th>0</th>\n",
       "      <td>0.069477</td>\n",
       "      <td>2.427666</td>\n",
       "      <td>1.023355</td>\n",
       "      <td>-0.295884</td>\n",
       "    </tr>\n",
       "    <tr>\n",
       "      <th>1</th>\n",
       "      <td>0.560075</td>\n",
       "      <td>1.395623</td>\n",
       "      <td>-0.320914</td>\n",
       "      <td>0.700129</td>\n",
       "    </tr>\n",
       "    <tr>\n",
       "      <th>2</th>\n",
       "      <td>1.279975</td>\n",
       "      <td>0.308047</td>\n",
       "      <td>-1.061808</td>\n",
       "      <td>1.109545</td>\n",
       "    </tr>\n",
       "    <tr>\n",
       "      <th>3</th>\n",
       "      <td>-1.331713</td>\n",
       "      <td>1.753258</td>\n",
       "      <td>-0.060464</td>\n",
       "      <td>0.752724</td>\n",
       "    </tr>\n",
       "    <tr>\n",
       "      <th>4</th>\n",
       "      <td>0.70767</td>\n",
       "      <td>0.941276</td>\n",
       "      <td>1.301172</td>\n",
       "      <td>-0.376685</td>\n",
       "    </tr>\n",
       "  </tbody>\n",
       "</table>\n",
       "</div>"
      ],
      "text/plain": [
       "          W         Y         Z       new\n",
       "0  0.069477  2.427666  1.023355 -0.295884\n",
       "1  0.560075  1.395623 -0.320914  0.700129\n",
       "2  1.279975  0.308047 -1.061808  1.109545\n",
       "3 -1.331713  1.753258 -0.060464  0.752724\n",
       "4   0.70767  0.941276  1.301172 -0.376685"
      ]
     },
     "execution_count": 27,
     "metadata": {},
     "output_type": "execute_result"
    }
   ],
   "source": [
    "df"
   ]
  },
  {
   "cell_type": "code",
   "execution_count": 28,
   "id": "c0e7d870",
   "metadata": {},
   "outputs": [
    {
     "data": {
      "text/html": [
       "<div>\n",
       "<style scoped>\n",
       "    .dataframe tbody tr th:only-of-type {\n",
       "        vertical-align: middle;\n",
       "    }\n",
       "\n",
       "    .dataframe tbody tr th {\n",
       "        vertical-align: top;\n",
       "    }\n",
       "\n",
       "    .dataframe thead th {\n",
       "        text-align: right;\n",
       "    }\n",
       "</style>\n",
       "<table border=\"1\" class=\"dataframe\">\n",
       "  <thead>\n",
       "    <tr style=\"text-align: right;\">\n",
       "      <th></th>\n",
       "      <th>W</th>\n",
       "      <th>Y</th>\n",
       "      <th>Z</th>\n",
       "      <th>new</th>\n",
       "    </tr>\n",
       "  </thead>\n",
       "  <tbody>\n",
       "    <tr>\n",
       "      <th>0</th>\n",
       "      <td>True</td>\n",
       "      <td>True</td>\n",
       "      <td>True</td>\n",
       "      <td>False</td>\n",
       "    </tr>\n",
       "    <tr>\n",
       "      <th>1</th>\n",
       "      <td>True</td>\n",
       "      <td>True</td>\n",
       "      <td>False</td>\n",
       "      <td>True</td>\n",
       "    </tr>\n",
       "    <tr>\n",
       "      <th>2</th>\n",
       "      <td>True</td>\n",
       "      <td>True</td>\n",
       "      <td>False</td>\n",
       "      <td>True</td>\n",
       "    </tr>\n",
       "    <tr>\n",
       "      <th>3</th>\n",
       "      <td>False</td>\n",
       "      <td>True</td>\n",
       "      <td>False</td>\n",
       "      <td>True</td>\n",
       "    </tr>\n",
       "    <tr>\n",
       "      <th>4</th>\n",
       "      <td>True</td>\n",
       "      <td>True</td>\n",
       "      <td>True</td>\n",
       "      <td>False</td>\n",
       "    </tr>\n",
       "  </tbody>\n",
       "</table>\n",
       "</div>"
      ],
      "text/plain": [
       "       W     Y      Z    new\n",
       "0   True  True   True  False\n",
       "1   True  True  False   True\n",
       "2   True  True  False   True\n",
       "3  False  True  False   True\n",
       "4   True  True   True  False"
      ]
     },
     "execution_count": 28,
     "metadata": {},
     "output_type": "execute_result"
    }
   ],
   "source": [
    "df>0"
   ]
  },
  {
   "cell_type": "code",
   "execution_count": 29,
   "id": "b0559d5d",
   "metadata": {},
   "outputs": [
    {
     "data": {
      "text/html": [
       "<div>\n",
       "<style scoped>\n",
       "    .dataframe tbody tr th:only-of-type {\n",
       "        vertical-align: middle;\n",
       "    }\n",
       "\n",
       "    .dataframe tbody tr th {\n",
       "        vertical-align: top;\n",
       "    }\n",
       "\n",
       "    .dataframe thead th {\n",
       "        text-align: right;\n",
       "    }\n",
       "</style>\n",
       "<table border=\"1\" class=\"dataframe\">\n",
       "  <thead>\n",
       "    <tr style=\"text-align: right;\">\n",
       "      <th></th>\n",
       "      <th>W</th>\n",
       "      <th>Y</th>\n",
       "      <th>Z</th>\n",
       "      <th>new</th>\n",
       "    </tr>\n",
       "  </thead>\n",
       "  <tbody>\n",
       "    <tr>\n",
       "      <th>0</th>\n",
       "      <td>0.069477</td>\n",
       "      <td>2.427666</td>\n",
       "      <td>1.023355</td>\n",
       "      <td>NaN</td>\n",
       "    </tr>\n",
       "    <tr>\n",
       "      <th>1</th>\n",
       "      <td>0.560075</td>\n",
       "      <td>1.395623</td>\n",
       "      <td>NaN</td>\n",
       "      <td>0.700129</td>\n",
       "    </tr>\n",
       "    <tr>\n",
       "      <th>2</th>\n",
       "      <td>1.279975</td>\n",
       "      <td>0.308047</td>\n",
       "      <td>NaN</td>\n",
       "      <td>1.109545</td>\n",
       "    </tr>\n",
       "    <tr>\n",
       "      <th>3</th>\n",
       "      <td>NaN</td>\n",
       "      <td>1.753258</td>\n",
       "      <td>NaN</td>\n",
       "      <td>0.752724</td>\n",
       "    </tr>\n",
       "    <tr>\n",
       "      <th>4</th>\n",
       "      <td>0.70767</td>\n",
       "      <td>0.941276</td>\n",
       "      <td>1.301172</td>\n",
       "      <td>NaN</td>\n",
       "    </tr>\n",
       "  </tbody>\n",
       "</table>\n",
       "</div>"
      ],
      "text/plain": [
       "          W         Y         Z       new\n",
       "0  0.069477  2.427666  1.023355       NaN\n",
       "1  0.560075  1.395623       NaN  0.700129\n",
       "2  1.279975  0.308047       NaN  1.109545\n",
       "3       NaN  1.753258       NaN  0.752724\n",
       "4   0.70767  0.941276  1.301172       NaN"
      ]
     },
     "execution_count": 29,
     "metadata": {},
     "output_type": "execute_result"
    }
   ],
   "source": [
    "df[df>0] #true val gulo thakbe, false gulo NaN"
   ]
  },
  {
   "cell_type": "code",
   "execution_count": 30,
   "id": "3f8d571b",
   "metadata": {},
   "outputs": [
    {
     "data": {
      "text/html": [
       "<div>\n",
       "<style scoped>\n",
       "    .dataframe tbody tr th:only-of-type {\n",
       "        vertical-align: middle;\n",
       "    }\n",
       "\n",
       "    .dataframe tbody tr th {\n",
       "        vertical-align: top;\n",
       "    }\n",
       "\n",
       "    .dataframe thead th {\n",
       "        text-align: right;\n",
       "    }\n",
       "</style>\n",
       "<table border=\"1\" class=\"dataframe\">\n",
       "  <thead>\n",
       "    <tr style=\"text-align: right;\">\n",
       "      <th></th>\n",
       "      <th>W</th>\n",
       "      <th>Y</th>\n",
       "      <th>Z</th>\n",
       "      <th>new</th>\n",
       "    </tr>\n",
       "  </thead>\n",
       "  <tbody>\n",
       "    <tr>\n",
       "      <th>0</th>\n",
       "      <td>0.069477</td>\n",
       "      <td>2.427666</td>\n",
       "      <td>1.023355</td>\n",
       "      <td>-0.295884</td>\n",
       "    </tr>\n",
       "    <tr>\n",
       "      <th>1</th>\n",
       "      <td>0.560075</td>\n",
       "      <td>1.395623</td>\n",
       "      <td>-0.320914</td>\n",
       "      <td>0.700129</td>\n",
       "    </tr>\n",
       "    <tr>\n",
       "      <th>2</th>\n",
       "      <td>1.279975</td>\n",
       "      <td>0.308047</td>\n",
       "      <td>-1.061808</td>\n",
       "      <td>1.109545</td>\n",
       "    </tr>\n",
       "    <tr>\n",
       "      <th>4</th>\n",
       "      <td>0.70767</td>\n",
       "      <td>0.941276</td>\n",
       "      <td>1.301172</td>\n",
       "      <td>-0.376685</td>\n",
       "    </tr>\n",
       "  </tbody>\n",
       "</table>\n",
       "</div>"
      ],
      "text/plain": [
       "          W         Y         Z       new\n",
       "0  0.069477  2.427666  1.023355 -0.295884\n",
       "1  0.560075  1.395623 -0.320914  0.700129\n",
       "2  1.279975  0.308047 -1.061808  1.109545\n",
       "4   0.70767  0.941276  1.301172 -0.376685"
      ]
     },
     "execution_count": 30,
     "metadata": {},
     "output_type": "execute_result"
    }
   ],
   "source": [
    "df[df['W']>0] #col er ekta (ekhane 0) val er beshi number thakbe only"
   ]
  },
  {
   "cell_type": "markdown",
   "id": "da48454e",
   "metadata": {},
   "source": [
    "for two condition you can use | and & with parenthesis"
   ]
  },
  {
   "cell_type": "code",
   "execution_count": 31,
   "id": "7f2a39d8",
   "metadata": {},
   "outputs": [
    {
     "data": {
      "text/html": [
       "<div>\n",
       "<style scoped>\n",
       "    .dataframe tbody tr th:only-of-type {\n",
       "        vertical-align: middle;\n",
       "    }\n",
       "\n",
       "    .dataframe tbody tr th {\n",
       "        vertical-align: top;\n",
       "    }\n",
       "\n",
       "    .dataframe thead th {\n",
       "        text-align: right;\n",
       "    }\n",
       "</style>\n",
       "<table border=\"1\" class=\"dataframe\">\n",
       "  <thead>\n",
       "    <tr style=\"text-align: right;\">\n",
       "      <th></th>\n",
       "      <th>W</th>\n",
       "      <th>Y</th>\n",
       "      <th>Z</th>\n",
       "      <th>new</th>\n",
       "    </tr>\n",
       "  </thead>\n",
       "  <tbody>\n",
       "    <tr>\n",
       "      <th>2</th>\n",
       "      <td>1.279975</td>\n",
       "      <td>0.308047</td>\n",
       "      <td>-1.061808</td>\n",
       "      <td>1.109545</td>\n",
       "    </tr>\n",
       "    <tr>\n",
       "      <th>4</th>\n",
       "      <td>0.70767</td>\n",
       "      <td>0.941276</td>\n",
       "      <td>1.301172</td>\n",
       "      <td>-0.376685</td>\n",
       "    </tr>\n",
       "  </tbody>\n",
       "</table>\n",
       "</div>"
      ],
      "text/plain": [
       "          W         Y         Z       new\n",
       "2  1.279975  0.308047 -1.061808  1.109545\n",
       "4   0.70767  0.941276  1.301172 -0.376685"
      ]
     },
     "execution_count": 31,
     "metadata": {},
     "output_type": "execute_result"
    }
   ],
   "source": [
    "df[(df['W']>0)&(df['Y']<1)]"
   ]
  },
  {
   "cell_type": "code",
   "execution_count": 32,
   "id": "f3aac6c5",
   "metadata": {},
   "outputs": [
    {
     "data": {
      "text/html": [
       "<div>\n",
       "<style scoped>\n",
       "    .dataframe tbody tr th:only-of-type {\n",
       "        vertical-align: middle;\n",
       "    }\n",
       "\n",
       "    .dataframe tbody tr th {\n",
       "        vertical-align: top;\n",
       "    }\n",
       "\n",
       "    .dataframe thead th {\n",
       "        text-align: right;\n",
       "    }\n",
       "</style>\n",
       "<table border=\"1\" class=\"dataframe\">\n",
       "  <thead>\n",
       "    <tr style=\"text-align: right;\">\n",
       "      <th></th>\n",
       "      <th>Y</th>\n",
       "      <th>Z</th>\n",
       "    </tr>\n",
       "  </thead>\n",
       "  <tbody>\n",
       "    <tr>\n",
       "      <th>0</th>\n",
       "      <td>2.427666</td>\n",
       "      <td>1.023355</td>\n",
       "    </tr>\n",
       "    <tr>\n",
       "      <th>1</th>\n",
       "      <td>1.395623</td>\n",
       "      <td>-0.320914</td>\n",
       "    </tr>\n",
       "    <tr>\n",
       "      <th>2</th>\n",
       "      <td>0.308047</td>\n",
       "      <td>-1.061808</td>\n",
       "    </tr>\n",
       "    <tr>\n",
       "      <th>4</th>\n",
       "      <td>0.941276</td>\n",
       "      <td>1.301172</td>\n",
       "    </tr>\n",
       "  </tbody>\n",
       "</table>\n",
       "</div>"
      ],
      "text/plain": [
       "          Y         Z\n",
       "0  2.427666  1.023355\n",
       "1  1.395623 -0.320914\n",
       "2  0.308047 -1.061808\n",
       "4  0.941276  1.301172"
      ]
     },
     "execution_count": 32,
     "metadata": {},
     "output_type": "execute_result"
    }
   ],
   "source": [
    "df[df['W']>0][['Y','Z']] #'W' er je val 0 theke boro, tader corresponding y ar z er value"
   ]
  },
  {
   "cell_type": "code",
   "execution_count": 33,
   "id": "960cd36b",
   "metadata": {},
   "outputs": [
    {
     "data": {
      "text/html": [
       "<div>\n",
       "<style scoped>\n",
       "    .dataframe tbody tr th:only-of-type {\n",
       "        vertical-align: middle;\n",
       "    }\n",
       "\n",
       "    .dataframe tbody tr th {\n",
       "        vertical-align: top;\n",
       "    }\n",
       "\n",
       "    .dataframe thead th {\n",
       "        text-align: right;\n",
       "    }\n",
       "</style>\n",
       "<table border=\"1\" class=\"dataframe\">\n",
       "  <thead>\n",
       "    <tr style=\"text-align: right;\">\n",
       "      <th></th>\n",
       "      <th>W</th>\n",
       "      <th>Y</th>\n",
       "      <th>Z</th>\n",
       "      <th>new</th>\n",
       "    </tr>\n",
       "  </thead>\n",
       "  <tbody>\n",
       "    <tr>\n",
       "      <th>0</th>\n",
       "      <td>0.069477</td>\n",
       "      <td>2.427666</td>\n",
       "      <td>1.023355</td>\n",
       "      <td>-0.295884</td>\n",
       "    </tr>\n",
       "    <tr>\n",
       "      <th>1</th>\n",
       "      <td>0.560075</td>\n",
       "      <td>1.395623</td>\n",
       "      <td>-0.320914</td>\n",
       "      <td>0.700129</td>\n",
       "    </tr>\n",
       "    <tr>\n",
       "      <th>2</th>\n",
       "      <td>1.279975</td>\n",
       "      <td>0.308047</td>\n",
       "      <td>-1.061808</td>\n",
       "      <td>1.109545</td>\n",
       "    </tr>\n",
       "    <tr>\n",
       "      <th>3</th>\n",
       "      <td>-1.331713</td>\n",
       "      <td>1.753258</td>\n",
       "      <td>-0.060464</td>\n",
       "      <td>0.752724</td>\n",
       "    </tr>\n",
       "    <tr>\n",
       "      <th>4</th>\n",
       "      <td>0.70767</td>\n",
       "      <td>0.941276</td>\n",
       "      <td>1.301172</td>\n",
       "      <td>-0.376685</td>\n",
       "    </tr>\n",
       "  </tbody>\n",
       "</table>\n",
       "</div>"
      ],
      "text/plain": [
       "          W         Y         Z       new\n",
       "0  0.069477  2.427666  1.023355 -0.295884\n",
       "1  0.560075  1.395623 -0.320914  0.700129\n",
       "2  1.279975  0.308047 -1.061808  1.109545\n",
       "3 -1.331713  1.753258 -0.060464  0.752724\n",
       "4   0.70767  0.941276  1.301172 -0.376685"
      ]
     },
     "execution_count": 33,
     "metadata": {},
     "output_type": "execute_result"
    }
   ],
   "source": [
    "df"
   ]
  },
  {
   "cell_type": "code",
   "execution_count": 34,
   "id": "d2723fe5",
   "metadata": {},
   "outputs": [
    {
     "data": {
      "text/html": [
       "<div>\n",
       "<style scoped>\n",
       "    .dataframe tbody tr th:only-of-type {\n",
       "        vertical-align: middle;\n",
       "    }\n",
       "\n",
       "    .dataframe tbody tr th {\n",
       "        vertical-align: top;\n",
       "    }\n",
       "\n",
       "    .dataframe thead th {\n",
       "        text-align: right;\n",
       "    }\n",
       "</style>\n",
       "<table border=\"1\" class=\"dataframe\">\n",
       "  <thead>\n",
       "    <tr style=\"text-align: right;\">\n",
       "      <th></th>\n",
       "      <th>W</th>\n",
       "      <th>Y</th>\n",
       "      <th>Z</th>\n",
       "      <th>new</th>\n",
       "    </tr>\n",
       "  </thead>\n",
       "  <tbody>\n",
       "    <tr>\n",
       "      <th>0</th>\n",
       "      <td>0.069477</td>\n",
       "      <td>2.427666</td>\n",
       "      <td>1.023355</td>\n",
       "      <td>-0.295884</td>\n",
       "    </tr>\n",
       "    <tr>\n",
       "      <th>1</th>\n",
       "      <td>0.560075</td>\n",
       "      <td>1.395623</td>\n",
       "      <td>-0.320914</td>\n",
       "      <td>0.700129</td>\n",
       "    </tr>\n",
       "    <tr>\n",
       "      <th>2</th>\n",
       "      <td>1.279975</td>\n",
       "      <td>0.308047</td>\n",
       "      <td>-1.061808</td>\n",
       "      <td>1.109545</td>\n",
       "    </tr>\n",
       "    <tr>\n",
       "      <th>3</th>\n",
       "      <td>-1.331713</td>\n",
       "      <td>1.753258</td>\n",
       "      <td>-0.060464</td>\n",
       "      <td>0.752724</td>\n",
       "    </tr>\n",
       "    <tr>\n",
       "      <th>4</th>\n",
       "      <td>0.70767</td>\n",
       "      <td>0.941276</td>\n",
       "      <td>1.301172</td>\n",
       "      <td>-0.376685</td>\n",
       "    </tr>\n",
       "  </tbody>\n",
       "</table>\n",
       "</div>"
      ],
      "text/plain": [
       "          W         Y         Z       new\n",
       "0  0.069477  2.427666  1.023355 -0.295884\n",
       "1  0.560075  1.395623 -0.320914  0.700129\n",
       "2  1.279975  0.308047 -1.061808  1.109545\n",
       "3 -1.331713  1.753258 -0.060464  0.752724\n",
       "4   0.70767  0.941276  1.301172 -0.376685"
      ]
     },
     "execution_count": 34,
     "metadata": {},
     "output_type": "execute_result"
    }
   ],
   "source": [
    "df"
   ]
  },
  {
   "cell_type": "markdown",
   "id": "00ac83b0",
   "metadata": {},
   "source": [
    "# More Index details"
   ]
  },
  {
   "cell_type": "markdown",
   "id": "e4c9c763",
   "metadata": {},
   "source": [
    "lets discuss some more feature of indexing, resetting the index, index hierarchy"
   ]
  },
  {
   "cell_type": "code",
   "execution_count": 35,
   "id": "12edefae",
   "metadata": {},
   "outputs": [
    {
     "data": {
      "text/html": [
       "<div>\n",
       "<style scoped>\n",
       "    .dataframe tbody tr th:only-of-type {\n",
       "        vertical-align: middle;\n",
       "    }\n",
       "\n",
       "    .dataframe tbody tr th {\n",
       "        vertical-align: top;\n",
       "    }\n",
       "\n",
       "    .dataframe thead th {\n",
       "        text-align: right;\n",
       "    }\n",
       "</style>\n",
       "<table border=\"1\" class=\"dataframe\">\n",
       "  <thead>\n",
       "    <tr style=\"text-align: right;\">\n",
       "      <th></th>\n",
       "      <th>W</th>\n",
       "      <th>Y</th>\n",
       "      <th>Z</th>\n",
       "      <th>new</th>\n",
       "    </tr>\n",
       "  </thead>\n",
       "  <tbody>\n",
       "    <tr>\n",
       "      <th>0</th>\n",
       "      <td>0.069477</td>\n",
       "      <td>2.427666</td>\n",
       "      <td>1.023355</td>\n",
       "      <td>-0.295884</td>\n",
       "    </tr>\n",
       "    <tr>\n",
       "      <th>1</th>\n",
       "      <td>0.560075</td>\n",
       "      <td>1.395623</td>\n",
       "      <td>-0.320914</td>\n",
       "      <td>0.700129</td>\n",
       "    </tr>\n",
       "    <tr>\n",
       "      <th>2</th>\n",
       "      <td>1.279975</td>\n",
       "      <td>0.308047</td>\n",
       "      <td>-1.061808</td>\n",
       "      <td>1.109545</td>\n",
       "    </tr>\n",
       "    <tr>\n",
       "      <th>3</th>\n",
       "      <td>-1.331713</td>\n",
       "      <td>1.753258</td>\n",
       "      <td>-0.060464</td>\n",
       "      <td>0.752724</td>\n",
       "    </tr>\n",
       "    <tr>\n",
       "      <th>4</th>\n",
       "      <td>0.70767</td>\n",
       "      <td>0.941276</td>\n",
       "      <td>1.301172</td>\n",
       "      <td>-0.376685</td>\n",
       "    </tr>\n",
       "  </tbody>\n",
       "</table>\n",
       "</div>"
      ],
      "text/plain": [
       "          W         Y         Z       new\n",
       "0  0.069477  2.427666  1.023355 -0.295884\n",
       "1  0.560075  1.395623 -0.320914  0.700129\n",
       "2  1.279975  0.308047 -1.061808  1.109545\n",
       "3 -1.331713  1.753258 -0.060464  0.752724\n",
       "4   0.70767  0.941276  1.301172 -0.376685"
      ]
     },
     "execution_count": 35,
     "metadata": {},
     "output_type": "execute_result"
    }
   ],
   "source": [
    "df"
   ]
  },
  {
   "cell_type": "code",
   "execution_count": 36,
   "id": "e12be00d",
   "metadata": {},
   "outputs": [
    {
     "data": {
      "text/html": [
       "<div>\n",
       "<style scoped>\n",
       "    .dataframe tbody tr th:only-of-type {\n",
       "        vertical-align: middle;\n",
       "    }\n",
       "\n",
       "    .dataframe tbody tr th {\n",
       "        vertical-align: top;\n",
       "    }\n",
       "\n",
       "    .dataframe thead th {\n",
       "        text-align: right;\n",
       "    }\n",
       "</style>\n",
       "<table border=\"1\" class=\"dataframe\">\n",
       "  <thead>\n",
       "    <tr style=\"text-align: right;\">\n",
       "      <th></th>\n",
       "      <th>index</th>\n",
       "      <th>W</th>\n",
       "      <th>Y</th>\n",
       "      <th>Z</th>\n",
       "      <th>new</th>\n",
       "    </tr>\n",
       "  </thead>\n",
       "  <tbody>\n",
       "    <tr>\n",
       "      <th>0</th>\n",
       "      <td>0</td>\n",
       "      <td>0.069477</td>\n",
       "      <td>2.427666</td>\n",
       "      <td>1.023355</td>\n",
       "      <td>-0.295884</td>\n",
       "    </tr>\n",
       "    <tr>\n",
       "      <th>1</th>\n",
       "      <td>1</td>\n",
       "      <td>0.560075</td>\n",
       "      <td>1.395623</td>\n",
       "      <td>-0.320914</td>\n",
       "      <td>0.700129</td>\n",
       "    </tr>\n",
       "    <tr>\n",
       "      <th>2</th>\n",
       "      <td>2</td>\n",
       "      <td>1.279975</td>\n",
       "      <td>0.308047</td>\n",
       "      <td>-1.061808</td>\n",
       "      <td>1.109545</td>\n",
       "    </tr>\n",
       "    <tr>\n",
       "      <th>3</th>\n",
       "      <td>3</td>\n",
       "      <td>-1.331713</td>\n",
       "      <td>1.753258</td>\n",
       "      <td>-0.060464</td>\n",
       "      <td>0.752724</td>\n",
       "    </tr>\n",
       "    <tr>\n",
       "      <th>4</th>\n",
       "      <td>4</td>\n",
       "      <td>0.70767</td>\n",
       "      <td>0.941276</td>\n",
       "      <td>1.301172</td>\n",
       "      <td>-0.376685</td>\n",
       "    </tr>\n",
       "  </tbody>\n",
       "</table>\n",
       "</div>"
      ],
      "text/plain": [
       "   index         W         Y         Z       new\n",
       "0      0  0.069477  2.427666  1.023355 -0.295884\n",
       "1      1  0.560075  1.395623 -0.320914  0.700129\n",
       "2      2  1.279975  0.308047 -1.061808  1.109545\n",
       "3      3 -1.331713  1.753258 -0.060464  0.752724\n",
       "4      4   0.70767  0.941276  1.301172 -0.376685"
      ]
     },
     "execution_count": 36,
     "metadata": {},
     "output_type": "execute_result"
    }
   ],
   "source": [
    "df.reset_index() #reset to default index 1,2,3,4..."
   ]
  },
  {
   "cell_type": "code",
   "execution_count": 37,
   "id": "816ab9b7",
   "metadata": {},
   "outputs": [],
   "source": [
    "newind='Ca ba ga ta da'.split()"
   ]
  },
  {
   "cell_type": "code",
   "execution_count": 38,
   "id": "277a5bc5",
   "metadata": {},
   "outputs": [],
   "source": [
    "df['states']=newind"
   ]
  },
  {
   "cell_type": "code",
   "execution_count": 39,
   "id": "5f410b95",
   "metadata": {},
   "outputs": [
    {
     "data": {
      "text/html": [
       "<div>\n",
       "<style scoped>\n",
       "    .dataframe tbody tr th:only-of-type {\n",
       "        vertical-align: middle;\n",
       "    }\n",
       "\n",
       "    .dataframe tbody tr th {\n",
       "        vertical-align: top;\n",
       "    }\n",
       "\n",
       "    .dataframe thead th {\n",
       "        text-align: right;\n",
       "    }\n",
       "</style>\n",
       "<table border=\"1\" class=\"dataframe\">\n",
       "  <thead>\n",
       "    <tr style=\"text-align: right;\">\n",
       "      <th></th>\n",
       "      <th>W</th>\n",
       "      <th>Y</th>\n",
       "      <th>Z</th>\n",
       "      <th>new</th>\n",
       "      <th>states</th>\n",
       "    </tr>\n",
       "  </thead>\n",
       "  <tbody>\n",
       "    <tr>\n",
       "      <th>0</th>\n",
       "      <td>0.069477</td>\n",
       "      <td>2.427666</td>\n",
       "      <td>1.023355</td>\n",
       "      <td>-0.295884</td>\n",
       "      <td>Ca</td>\n",
       "    </tr>\n",
       "    <tr>\n",
       "      <th>1</th>\n",
       "      <td>0.560075</td>\n",
       "      <td>1.395623</td>\n",
       "      <td>-0.320914</td>\n",
       "      <td>0.700129</td>\n",
       "      <td>ba</td>\n",
       "    </tr>\n",
       "    <tr>\n",
       "      <th>2</th>\n",
       "      <td>1.279975</td>\n",
       "      <td>0.308047</td>\n",
       "      <td>-1.061808</td>\n",
       "      <td>1.109545</td>\n",
       "      <td>ga</td>\n",
       "    </tr>\n",
       "    <tr>\n",
       "      <th>3</th>\n",
       "      <td>-1.331713</td>\n",
       "      <td>1.753258</td>\n",
       "      <td>-0.060464</td>\n",
       "      <td>0.752724</td>\n",
       "      <td>ta</td>\n",
       "    </tr>\n",
       "    <tr>\n",
       "      <th>4</th>\n",
       "      <td>0.70767</td>\n",
       "      <td>0.941276</td>\n",
       "      <td>1.301172</td>\n",
       "      <td>-0.376685</td>\n",
       "      <td>da</td>\n",
       "    </tr>\n",
       "  </tbody>\n",
       "</table>\n",
       "</div>"
      ],
      "text/plain": [
       "          W         Y         Z       new states\n",
       "0  0.069477  2.427666  1.023355 -0.295884     Ca\n",
       "1  0.560075  1.395623 -0.320914  0.700129     ba\n",
       "2  1.279975  0.308047 -1.061808  1.109545     ga\n",
       "3 -1.331713  1.753258 -0.060464  0.752724     ta\n",
       "4   0.70767  0.941276  1.301172 -0.376685     da"
      ]
     },
     "execution_count": 39,
     "metadata": {},
     "output_type": "execute_result"
    }
   ],
   "source": [
    "df"
   ]
  },
  {
   "cell_type": "code",
   "execution_count": 40,
   "id": "f80a3d6f",
   "metadata": {},
   "outputs": [
    {
     "data": {
      "text/html": [
       "<div>\n",
       "<style scoped>\n",
       "    .dataframe tbody tr th:only-of-type {\n",
       "        vertical-align: middle;\n",
       "    }\n",
       "\n",
       "    .dataframe tbody tr th {\n",
       "        vertical-align: top;\n",
       "    }\n",
       "\n",
       "    .dataframe thead th {\n",
       "        text-align: right;\n",
       "    }\n",
       "</style>\n",
       "<table border=\"1\" class=\"dataframe\">\n",
       "  <thead>\n",
       "    <tr style=\"text-align: right;\">\n",
       "      <th></th>\n",
       "      <th>W</th>\n",
       "      <th>Y</th>\n",
       "      <th>Z</th>\n",
       "      <th>new</th>\n",
       "    </tr>\n",
       "    <tr>\n",
       "      <th>states</th>\n",
       "      <th></th>\n",
       "      <th></th>\n",
       "      <th></th>\n",
       "      <th></th>\n",
       "    </tr>\n",
       "  </thead>\n",
       "  <tbody>\n",
       "    <tr>\n",
       "      <th>Ca</th>\n",
       "      <td>0.069477</td>\n",
       "      <td>2.427666</td>\n",
       "      <td>1.023355</td>\n",
       "      <td>-0.295884</td>\n",
       "    </tr>\n",
       "    <tr>\n",
       "      <th>ba</th>\n",
       "      <td>0.560075</td>\n",
       "      <td>1.395623</td>\n",
       "      <td>-0.320914</td>\n",
       "      <td>0.700129</td>\n",
       "    </tr>\n",
       "    <tr>\n",
       "      <th>ga</th>\n",
       "      <td>1.279975</td>\n",
       "      <td>0.308047</td>\n",
       "      <td>-1.061808</td>\n",
       "      <td>1.109545</td>\n",
       "    </tr>\n",
       "    <tr>\n",
       "      <th>ta</th>\n",
       "      <td>-1.331713</td>\n",
       "      <td>1.753258</td>\n",
       "      <td>-0.060464</td>\n",
       "      <td>0.752724</td>\n",
       "    </tr>\n",
       "    <tr>\n",
       "      <th>da</th>\n",
       "      <td>0.70767</td>\n",
       "      <td>0.941276</td>\n",
       "      <td>1.301172</td>\n",
       "      <td>-0.376685</td>\n",
       "    </tr>\n",
       "  </tbody>\n",
       "</table>\n",
       "</div>"
      ],
      "text/plain": [
       "               W         Y         Z       new\n",
       "states                                        \n",
       "Ca      0.069477  2.427666  1.023355 -0.295884\n",
       "ba      0.560075  1.395623 -0.320914  0.700129\n",
       "ga      1.279975  0.308047 -1.061808  1.109545\n",
       "ta     -1.331713  1.753258 -0.060464  0.752724\n",
       "da       0.70767  0.941276  1.301172 -0.376685"
      ]
     },
     "execution_count": 40,
     "metadata": {},
     "output_type": "execute_result"
    }
   ],
   "source": [
    "df.set_index('states')"
   ]
  },
  {
   "cell_type": "markdown",
   "id": "bed7412a",
   "metadata": {},
   "source": [
    "# Multi-index & index hierarchy"
   ]
  },
  {
   "cell_type": "code",
   "execution_count": 41,
   "id": "1346e593",
   "metadata": {},
   "outputs": [],
   "source": [
    "#index level\n",
    "outside=['G1','G1','G1','G2','G2','G2']\n",
    "inside=[1,2,3,1,2,3]\n",
    "hier_index=list(zip(outside,inside))\n",
    "hier_index=pd.MultiIndex.from_tuples(hier_index)"
   ]
  },
  {
   "cell_type": "code",
   "execution_count": 42,
   "id": "e3248b53",
   "metadata": {},
   "outputs": [
    {
     "data": {
      "text/plain": [
       "MultiIndex([('G1', 1),\n",
       "            ('G1', 2),\n",
       "            ('G1', 3),\n",
       "            ('G2', 1),\n",
       "            ('G2', 2),\n",
       "            ('G2', 3)],\n",
       "           )"
      ]
     },
     "execution_count": 42,
     "metadata": {},
     "output_type": "execute_result"
    }
   ],
   "source": [
    "hier_index"
   ]
  },
  {
   "cell_type": "code",
   "execution_count": 43,
   "id": "32cba61b",
   "metadata": {},
   "outputs": [],
   "source": [
    "df=pd.DataFrame(np.random.randn(6,2), index=hier_index, columns=['A','B'])"
   ]
  },
  {
   "cell_type": "code",
   "execution_count": 44,
   "id": "73369f5d",
   "metadata": {},
   "outputs": [
    {
     "data": {
      "text/html": [
       "<div>\n",
       "<style scoped>\n",
       "    .dataframe tbody tr th:only-of-type {\n",
       "        vertical-align: middle;\n",
       "    }\n",
       "\n",
       "    .dataframe tbody tr th {\n",
       "        vertical-align: top;\n",
       "    }\n",
       "\n",
       "    .dataframe thead th {\n",
       "        text-align: right;\n",
       "    }\n",
       "</style>\n",
       "<table border=\"1\" class=\"dataframe\">\n",
       "  <thead>\n",
       "    <tr style=\"text-align: right;\">\n",
       "      <th></th>\n",
       "      <th></th>\n",
       "      <th>A</th>\n",
       "      <th>B</th>\n",
       "    </tr>\n",
       "  </thead>\n",
       "  <tbody>\n",
       "    <tr>\n",
       "      <th rowspan=\"3\" valign=\"top\">G1</th>\n",
       "      <th>1</th>\n",
       "      <td>-0.152315</td>\n",
       "      <td>0.143770</td>\n",
       "    </tr>\n",
       "    <tr>\n",
       "      <th>2</th>\n",
       "      <td>0.392448</td>\n",
       "      <td>0.321788</td>\n",
       "    </tr>\n",
       "    <tr>\n",
       "      <th>3</th>\n",
       "      <td>1.029048</td>\n",
       "      <td>-0.272079</td>\n",
       "    </tr>\n",
       "    <tr>\n",
       "      <th rowspan=\"3\" valign=\"top\">G2</th>\n",
       "      <th>1</th>\n",
       "      <td>2.060797</td>\n",
       "      <td>-1.046867</td>\n",
       "    </tr>\n",
       "    <tr>\n",
       "      <th>2</th>\n",
       "      <td>-2.273739</td>\n",
       "      <td>1.218096</td>\n",
       "    </tr>\n",
       "    <tr>\n",
       "      <th>3</th>\n",
       "      <td>-0.662684</td>\n",
       "      <td>0.420491</td>\n",
       "    </tr>\n",
       "  </tbody>\n",
       "</table>\n",
       "</div>"
      ],
      "text/plain": [
       "             A         B\n",
       "G1 1 -0.152315  0.143770\n",
       "   2  0.392448  0.321788\n",
       "   3  1.029048 -0.272079\n",
       "G2 1  2.060797 -1.046867\n",
       "   2 -2.273739  1.218096\n",
       "   3 -0.662684  0.420491"
      ]
     },
     "execution_count": 44,
     "metadata": {},
     "output_type": "execute_result"
    }
   ],
   "source": [
    "df"
   ]
  },
  {
   "cell_type": "markdown",
   "id": "07e3c98e",
   "metadata": {},
   "source": [
    "Now lets show how to index this! For index hierarchy we use df.loc[], if this was on the columns axis, you would just use nromal bracket notation df[]. calling one level of the index returns the sub-dataframe"
   ]
  },
  {
   "cell_type": "code",
   "execution_count": 45,
   "id": "f14bc9b3",
   "metadata": {},
   "outputs": [
    {
     "data": {
      "text/html": [
       "<div>\n",
       "<style scoped>\n",
       "    .dataframe tbody tr th:only-of-type {\n",
       "        vertical-align: middle;\n",
       "    }\n",
       "\n",
       "    .dataframe tbody tr th {\n",
       "        vertical-align: top;\n",
       "    }\n",
       "\n",
       "    .dataframe thead th {\n",
       "        text-align: right;\n",
       "    }\n",
       "</style>\n",
       "<table border=\"1\" class=\"dataframe\">\n",
       "  <thead>\n",
       "    <tr style=\"text-align: right;\">\n",
       "      <th></th>\n",
       "      <th>A</th>\n",
       "      <th>B</th>\n",
       "    </tr>\n",
       "  </thead>\n",
       "  <tbody>\n",
       "    <tr>\n",
       "      <th>1</th>\n",
       "      <td>-0.152315</td>\n",
       "      <td>0.143770</td>\n",
       "    </tr>\n",
       "    <tr>\n",
       "      <th>2</th>\n",
       "      <td>0.392448</td>\n",
       "      <td>0.321788</td>\n",
       "    </tr>\n",
       "    <tr>\n",
       "      <th>3</th>\n",
       "      <td>1.029048</td>\n",
       "      <td>-0.272079</td>\n",
       "    </tr>\n",
       "  </tbody>\n",
       "</table>\n",
       "</div>"
      ],
      "text/plain": [
       "          A         B\n",
       "1 -0.152315  0.143770\n",
       "2  0.392448  0.321788\n",
       "3  1.029048 -0.272079"
      ]
     },
     "execution_count": 45,
     "metadata": {},
     "output_type": "execute_result"
    }
   ],
   "source": [
    "df.loc['G1']"
   ]
  },
  {
   "cell_type": "code",
   "execution_count": 46,
   "id": "5f4c6903",
   "metadata": {},
   "outputs": [
    {
     "data": {
      "text/plain": [
       "A   -0.152315\n",
       "B    0.143770\n",
       "Name: 1, dtype: float64"
      ]
     },
     "execution_count": 46,
     "metadata": {},
     "output_type": "execute_result"
    }
   ],
   "source": [
    "df.loc['G1'].loc[1]"
   ]
  },
  {
   "cell_type": "code",
   "execution_count": 47,
   "id": "506ec9ef",
   "metadata": {},
   "outputs": [
    {
     "data": {
      "text/plain": [
       "A   -2.273739\n",
       "B    1.218096\n",
       "Name: 2, dtype: float64"
      ]
     },
     "execution_count": 47,
     "metadata": {},
     "output_type": "execute_result"
    }
   ],
   "source": [
    "df.loc['G2'].loc[2]"
   ]
  },
  {
   "cell_type": "code",
   "execution_count": 48,
   "id": "666f8c99",
   "metadata": {},
   "outputs": [
    {
     "data": {
      "text/plain": [
       "FrozenList([None, None])"
      ]
     },
     "execution_count": 48,
     "metadata": {},
     "output_type": "execute_result"
    }
   ],
   "source": [
    "df.index.names #initially no name provided"
   ]
  },
  {
   "cell_type": "code",
   "execution_count": 49,
   "id": "be2bf670",
   "metadata": {},
   "outputs": [],
   "source": [
    "df.index.names=['Group', 'Num'] #name assigned"
   ]
  },
  {
   "cell_type": "code",
   "execution_count": 50,
   "id": "0cef7438",
   "metadata": {},
   "outputs": [
    {
     "data": {
      "text/plain": [
       "FrozenList(['Group', 'Num'])"
      ]
     },
     "execution_count": 50,
     "metadata": {},
     "output_type": "execute_result"
    }
   ],
   "source": [
    "df.index.names"
   ]
  },
  {
   "cell_type": "code",
   "execution_count": 51,
   "id": "a01d6ec0",
   "metadata": {},
   "outputs": [
    {
     "data": {
      "text/html": [
       "<div>\n",
       "<style scoped>\n",
       "    .dataframe tbody tr th:only-of-type {\n",
       "        vertical-align: middle;\n",
       "    }\n",
       "\n",
       "    .dataframe tbody tr th {\n",
       "        vertical-align: top;\n",
       "    }\n",
       "\n",
       "    .dataframe thead th {\n",
       "        text-align: right;\n",
       "    }\n",
       "</style>\n",
       "<table border=\"1\" class=\"dataframe\">\n",
       "  <thead>\n",
       "    <tr style=\"text-align: right;\">\n",
       "      <th></th>\n",
       "      <th></th>\n",
       "      <th>A</th>\n",
       "      <th>B</th>\n",
       "    </tr>\n",
       "    <tr>\n",
       "      <th>Group</th>\n",
       "      <th>Num</th>\n",
       "      <th></th>\n",
       "      <th></th>\n",
       "    </tr>\n",
       "  </thead>\n",
       "  <tbody>\n",
       "    <tr>\n",
       "      <th rowspan=\"3\" valign=\"top\">G1</th>\n",
       "      <th>1</th>\n",
       "      <td>-0.152315</td>\n",
       "      <td>0.143770</td>\n",
       "    </tr>\n",
       "    <tr>\n",
       "      <th>2</th>\n",
       "      <td>0.392448</td>\n",
       "      <td>0.321788</td>\n",
       "    </tr>\n",
       "    <tr>\n",
       "      <th>3</th>\n",
       "      <td>1.029048</td>\n",
       "      <td>-0.272079</td>\n",
       "    </tr>\n",
       "    <tr>\n",
       "      <th rowspan=\"3\" valign=\"top\">G2</th>\n",
       "      <th>1</th>\n",
       "      <td>2.060797</td>\n",
       "      <td>-1.046867</td>\n",
       "    </tr>\n",
       "    <tr>\n",
       "      <th>2</th>\n",
       "      <td>-2.273739</td>\n",
       "      <td>1.218096</td>\n",
       "    </tr>\n",
       "    <tr>\n",
       "      <th>3</th>\n",
       "      <td>-0.662684</td>\n",
       "      <td>0.420491</td>\n",
       "    </tr>\n",
       "  </tbody>\n",
       "</table>\n",
       "</div>"
      ],
      "text/plain": [
       "                  A         B\n",
       "Group Num                    \n",
       "G1    1   -0.152315  0.143770\n",
       "      2    0.392448  0.321788\n",
       "      3    1.029048 -0.272079\n",
       "G2    1    2.060797 -1.046867\n",
       "      2   -2.273739  1.218096\n",
       "      3   -0.662684  0.420491"
      ]
     },
     "execution_count": 51,
     "metadata": {},
     "output_type": "execute_result"
    }
   ],
   "source": [
    "df"
   ]
  },
  {
   "cell_type": "code",
   "execution_count": 52,
   "id": "d37b0a36",
   "metadata": {},
   "outputs": [
    {
     "data": {
      "text/html": [
       "<div>\n",
       "<style scoped>\n",
       "    .dataframe tbody tr th:only-of-type {\n",
       "        vertical-align: middle;\n",
       "    }\n",
       "\n",
       "    .dataframe tbody tr th {\n",
       "        vertical-align: top;\n",
       "    }\n",
       "\n",
       "    .dataframe thead th {\n",
       "        text-align: right;\n",
       "    }\n",
       "</style>\n",
       "<table border=\"1\" class=\"dataframe\">\n",
       "  <thead>\n",
       "    <tr style=\"text-align: right;\">\n",
       "      <th></th>\n",
       "      <th>A</th>\n",
       "      <th>B</th>\n",
       "    </tr>\n",
       "    <tr>\n",
       "      <th>Num</th>\n",
       "      <th></th>\n",
       "      <th></th>\n",
       "    </tr>\n",
       "  </thead>\n",
       "  <tbody>\n",
       "    <tr>\n",
       "      <th>1</th>\n",
       "      <td>-0.152315</td>\n",
       "      <td>0.143770</td>\n",
       "    </tr>\n",
       "    <tr>\n",
       "      <th>2</th>\n",
       "      <td>0.392448</td>\n",
       "      <td>0.321788</td>\n",
       "    </tr>\n",
       "    <tr>\n",
       "      <th>3</th>\n",
       "      <td>1.029048</td>\n",
       "      <td>-0.272079</td>\n",
       "    </tr>\n",
       "  </tbody>\n",
       "</table>\n",
       "</div>"
      ],
      "text/plain": [
       "            A         B\n",
       "Num                    \n",
       "1   -0.152315  0.143770\n",
       "2    0.392448  0.321788\n",
       "3    1.029048 -0.272079"
      ]
     },
     "execution_count": 52,
     "metadata": {},
     "output_type": "execute_result"
    }
   ],
   "source": [
    "df.xs('G1') #you can access 'G1' without using loc"
   ]
  },
  {
   "cell_type": "code",
   "execution_count": 53,
   "id": "e0d449b1",
   "metadata": {},
   "outputs": [
    {
     "name": "stderr",
     "output_type": "stream",
     "text": [
      "C:\\Users\\USER\\AppData\\Local\\Temp\\ipykernel_16260\\580597333.py:1: FutureWarning: Passing lists as key for xs is deprecated and will be removed in a future version. Pass key as a tuple instead.\n",
      "  df.xs(['G1',1])\n"
     ]
    },
    {
     "data": {
      "text/plain": [
       "A   -0.152315\n",
       "B    0.143770\n",
       "Name: (G1, 1), dtype: float64"
      ]
     },
     "execution_count": 53,
     "metadata": {},
     "output_type": "execute_result"
    }
   ],
   "source": [
    "df.xs(['G1',1])"
   ]
  },
  {
   "cell_type": "code",
   "execution_count": 54,
   "id": "f55fe474",
   "metadata": {},
   "outputs": [
    {
     "data": {
      "text/plain": [
       "A   -0.152315\n",
       "B    0.143770\n",
       "Name: 1, dtype: float64"
      ]
     },
     "execution_count": 54,
     "metadata": {},
     "output_type": "execute_result"
    }
   ],
   "source": [
    "df.loc['G1'].loc[1] #same as above"
   ]
  },
  {
   "cell_type": "code",
   "execution_count": 55,
   "id": "7cfb0f37",
   "metadata": {},
   "outputs": [
    {
     "data": {
      "text/html": [
       "<div>\n",
       "<style scoped>\n",
       "    .dataframe tbody tr th:only-of-type {\n",
       "        vertical-align: middle;\n",
       "    }\n",
       "\n",
       "    .dataframe tbody tr th {\n",
       "        vertical-align: top;\n",
       "    }\n",
       "\n",
       "    .dataframe thead th {\n",
       "        text-align: right;\n",
       "    }\n",
       "</style>\n",
       "<table border=\"1\" class=\"dataframe\">\n",
       "  <thead>\n",
       "    <tr style=\"text-align: right;\">\n",
       "      <th></th>\n",
       "      <th>A</th>\n",
       "      <th>B</th>\n",
       "    </tr>\n",
       "    <tr>\n",
       "      <th>Group</th>\n",
       "      <th></th>\n",
       "      <th></th>\n",
       "    </tr>\n",
       "  </thead>\n",
       "  <tbody>\n",
       "    <tr>\n",
       "      <th>G1</th>\n",
       "      <td>-0.152315</td>\n",
       "      <td>0.143770</td>\n",
       "    </tr>\n",
       "    <tr>\n",
       "      <th>G2</th>\n",
       "      <td>2.060797</td>\n",
       "      <td>-1.046867</td>\n",
       "    </tr>\n",
       "  </tbody>\n",
       "</table>\n",
       "</div>"
      ],
      "text/plain": [
       "              A         B\n",
       "Group                    \n",
       "G1    -0.152315  0.143770\n",
       "G2     2.060797 -1.046867"
      ]
     },
     "execution_count": 55,
     "metadata": {},
     "output_type": "execute_result"
    }
   ],
   "source": [
    "df.xs(1,  level='Num') #show rows where level 'Num' = 1"
   ]
  }
 ],
 "metadata": {
  "kernelspec": {
   "display_name": "Python 3",
   "language": "python",
   "name": "python3"
  },
  "language_info": {
   "codemirror_mode": {
    "name": "ipython",
    "version": 3
   },
   "file_extension": ".py",
   "mimetype": "text/x-python",
   "name": "python",
   "nbconvert_exporter": "python",
   "pygments_lexer": "ipython3",
   "version": "3.9.0"
  },
  "vscode": {
   "interpreter": {
    "hash": "1d5c1156327dacead463cc502c55ebae8ce9c8c01979cf154173ff808e75bf55"
   }
  }
 },
 "nbformat": 4,
 "nbformat_minor": 5
}
