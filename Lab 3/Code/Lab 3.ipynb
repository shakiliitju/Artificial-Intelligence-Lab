{
 "cells": [
  {
   "attachments": {},
   "cell_type": "markdown",
   "metadata": {},
   "source": [
    "# Lab 3: Basic Python"
   ]
  },
  {
   "attachments": {},
   "cell_type": "markdown",
   "metadata": {},
   "source": [
    "Problem Name: Write a Python program to find the sum of all the elements in a list."
   ]
  },
  {
   "cell_type": "code",
   "execution_count": 1,
   "metadata": {},
   "outputs": [
    {
     "name": "stdout",
     "output_type": "stream",
     "text": [
      "Sum of list : 40\n"
     ]
    }
   ],
   "source": [
    "list = [3, 5, 4, 7, 8, 1, 0, 8, 4]\n",
    "total = 0\n",
    "for i in list:\n",
    "    total += i\n",
    "print(f\"Sum of list : {total}\")\n"
   ]
  },
  {
   "attachments": {},
   "cell_type": "markdown",
   "metadata": {},
   "source": [
    "Problem Name: Write a Python program to find the largest, smallest, second largest, and second smallest elements in a list"
   ]
  },
  {
   "cell_type": "code",
   "execution_count": 2,
   "metadata": {},
   "outputs": [
    {
     "name": "stdout",
     "output_type": "stream",
     "text": [
      "The list : [0, 1, 3, 4, 4, 5, 7, 8, 9]\n",
      "Largest : 9\n",
      "Smallest : 0\n",
      "Second Largest : 8\n",
      "Second Smallest : 1\n"
     ]
    }
   ],
   "source": [
    "list = [3, 5, 4, 7, 9, 1, 0, 8, 4]\n",
    "list.sort()\n",
    "print(f\"The list : {list}\")\n",
    "print(f\"Largest : {list[-1]}\")\n",
    "print(f\"Smallest : {list[0]}\")\n",
    "print(f\"Second Largest : {list[-2]}\")\n",
    "print(f\"Second Smallest : {list[1]}\")\n"
   ]
  },
  {
   "attachments": {},
   "cell_type": "markdown",
   "metadata": {},
   "source": [
    "Problem Name: Write a Python program to count the number of occurrences of each character in\n",
    "a string."
   ]
  },
  {
   "cell_type": "code",
   "execution_count": 3,
   "metadata": {},
   "outputs": [
    {
     "name": "stdout",
     "output_type": "stream",
     "text": [
      "B :: 1\n",
      "e :: 9\n",
      "k :: 2\n",
      "p :: 2\n",
      "r :: 1\n",
      "s :: 2\n",
      "  :: 2\n",
      "b :: 1\n"
     ]
    }
   ],
   "source": [
    "def charcount(string):\n",
    "    count = {}\n",
    "    for i in string:\n",
    "        if i in count:\n",
    "            count[i] += 1\n",
    "        else:\n",
    "            count[i] = 1\n",
    "    return count\n",
    "\n",
    "\n",
    "string = \"Beekeepers keep bees\"\n",
    "chars = charcount(string)\n",
    "for char in chars:\n",
    "    print(f\"{char} :: {chars[char]}\")\n"
   ]
  },
  {
   "attachments": {},
   "cell_type": "markdown",
   "metadata": {},
   "source": [
    "Problem Name: Write a Python program to create a tuple with elements from a list and print it."
   ]
  },
  {
   "cell_type": "code",
   "execution_count": 4,
   "metadata": {},
   "outputs": [
    {
     "name": "stdout",
     "output_type": "stream",
     "text": [
      "(3, 5, 2, 4, 6, 7, 8, 5, 34)\n"
     ]
    }
   ],
   "source": [
    "def maketuple(list):\n",
    "    tup = tuple(list)\n",
    "    return tup\n",
    "\n",
    "\n",
    "list = [3, 5, 2, 4, 6, 7, 8, 5, 34]\n",
    "tuple = maketuple(list)\n",
    "print(tuple)\n"
   ]
  },
  {
   "attachments": {},
   "cell_type": "markdown",
   "metadata": {},
   "source": [
    "Problem Name: Write a Python function that takes a list of numbers as input and returns the\n",
    "largest sum of non-adjacent numbers."
   ]
  },
  {
   "cell_type": "code",
   "execution_count": 5,
   "metadata": {},
   "outputs": [
    {
     "name": "stdout",
     "output_type": "stream",
     "text": [
      "Largest sum of non-adjacent numbers: 23\n"
     ]
    }
   ],
   "source": [
    "def nonadjecntsum(nums):\n",
    "    if not nums:\n",
    "        return 0\n",
    "    n = len(nums)\n",
    "    if n <= 2:\n",
    "        return max(nums)\n",
    "\n",
    "    max_sum = [0] * n\n",
    "    max_sum[0] = nums[0]\n",
    "    max_sum[1] = max(nums[0], nums[1])\n",
    "\n",
    "    for i in range(2, n):\n",
    "        max_sum[i] = max(max_sum[i-1], max_sum[i-2] + nums[i])\n",
    "\n",
    "    return max_sum[n-1]\n",
    "\n",
    "\n",
    "my_list = [1, 3, 7, 2, 4, 6, 2, 9, 5]\n",
    "result = nonadjecntsum(my_list)\n",
    "print(\"Largest sum of non-adjacent numbers:\", result)\n"
   ]
  },
  {
   "attachments": {},
   "cell_type": "markdown",
   "metadata": {},
   "source": [
    "Problem Name: Write a Python program to remove duplicates from a list and return the resultant\n",
    "list."
   ]
  },
  {
   "cell_type": "code",
   "execution_count": 6,
   "metadata": {},
   "outputs": [
    {
     "name": "stdout",
     "output_type": "stream",
     "text": [
      "Duplicates removed list : [7, 4, 8, 2, 0, 1, 5, 6, 9]\n"
     ]
    }
   ],
   "source": [
    "def dupremove(list):\n",
    "    list1 = []\n",
    "    for i in list:\n",
    "        if i not in list1:\n",
    "            list1.append(i)\n",
    "    print(f\"Duplicates removed list : {list1}\")\n",
    "\n",
    "\n",
    "list = [7, 4, 7, 8, 2, 0, 8, 1, 0, 4, 5, 6, 8, 2, 9]\n",
    "dupremove(list)\n"
   ]
  },
  {
   "attachments": {},
   "cell_type": "markdown",
   "metadata": {},
   "source": [
    "Problem Name: Write a Python program to find the common elements between two lists and\n",
    "return the resultant list."
   ]
  },
  {
   "cell_type": "code",
   "execution_count": 7,
   "metadata": {},
   "outputs": [
    {
     "name": "stdout",
     "output_type": "stream",
     "text": [
      "common elements : [1, 4, 8, 5]\n"
     ]
    }
   ],
   "source": [
    "def common(list1, list2):\n",
    "    result = []\n",
    "    for i in list1:\n",
    "        if i in list2:\n",
    "            result.append(i)\n",
    "    print(f\"common elements : {result}\")\n",
    "\n",
    "\n",
    "list1 = [1, 4, 6, 8, 0, 5]\n",
    "list2 = [7, 5, 1, 9, 8, 4]\n",
    "common(list1, list2)\n"
   ]
  },
  {
   "attachments": {},
   "cell_type": "markdown",
   "metadata": {},
   "source": [
    "Problem Name: Write a Python program to find the first n Fibonacci numbers using recursion."
   ]
  },
  {
   "cell_type": "code",
   "execution_count": 8,
   "metadata": {},
   "outputs": [
    {
     "name": "stdout",
     "output_type": "stream",
     "text": [
      "First 15 Fibonacci numbers : [0, 1, 1, 2, 3, 5, 8, 13, 21, 34, 55, 89, 144, 233, 377]\n"
     ]
    }
   ],
   "source": [
    "def fibonacci(n):\n",
    "    if n == 0:\n",
    "        return\n",
    "    elif n == 1:\n",
    "        return [0]\n",
    "    elif n == 2:\n",
    "        return [0, 1]\n",
    "    else:\n",
    "        seq = fibonacci(n-1)\n",
    "        seq.append(seq[-1]+seq[-2])\n",
    "        return seq\n",
    "\n",
    "\n",
    "n = 15\n",
    "fib = fibonacci(n)\n",
    "print(f\"First {n} Fibonacci numbers : {fib}\")\n"
   ]
  },
  {
   "attachments": {},
   "cell_type": "markdown",
   "metadata": {},
   "source": [
    "Problem Name: Write a Python function to replace all occurrences of a substring in a string."
   ]
  },
  {
   "cell_type": "code",
   "execution_count": 9,
   "metadata": {},
   "outputs": [
    {
     "name": "stdout",
     "output_type": "stream",
     "text": [
      "Good morning students.\n"
     ]
    }
   ],
   "source": [
    "string = \"Good morning teacher.\"\n",
    "substring = \"teacher\"\n",
    "replace = \"students\"\n",
    "rep = string.replace(substring, replace)\n",
    "print(rep)\n"
   ]
  },
  {
   "attachments": {},
   "cell_type": "markdown",
   "metadata": {},
   "source": [
    "Problem Name: Write a function to add a key-value pair to a dictionary in Python"
   ]
  },
  {
   "cell_type": "code",
   "execution_count": 10,
   "metadata": {},
   "outputs": [
    {
     "name": "stdout",
     "output_type": "stream",
     "text": [
      "{'name': 'Shakil', 'roll': '2023', 'age': 24}\n"
     ]
    }
   ],
   "source": [
    "def addtodic(dictionary, key, value):\n",
    "    dictionary[key] = value\n",
    "    return\n",
    "\n",
    "\n",
    "dictionary = {'name': 'Shakil', 'roll': '2023'}\n",
    "key = \"age\"\n",
    "value = 24\n",
    "\n",
    "addtodic(dictionary, key, value)\n",
    "print(dictionary)\n"
   ]
  },
  {
   "attachments": {},
   "cell_type": "markdown",
   "metadata": {},
   "source": [
    "Problem Name: Write a function to remove a key from a dictionary in Python"
   ]
  },
  {
   "cell_type": "code",
   "execution_count": 12,
   "metadata": {},
   "outputs": [
    {
     "name": "stdout",
     "output_type": "stream",
     "text": [
      "{'name': 'Shakil', 'age': 23}\n"
     ]
    }
   ],
   "source": [
    "def delete(dictionary, key):\n",
    "    dictionary.pop(key)\n",
    "    return\n",
    "\n",
    "\n",
    "dictionary = {'name': 'Shakil', 'roll': '2023', 'age': 23}\n",
    "key = \"roll\"\n",
    "\n",
    "delete(dictionary, key)\n",
    "print(dictionary)\n"
   ]
  },
  {
   "attachments": {},
   "cell_type": "markdown",
   "metadata": {},
   "source": [
    "Problem Name: Write a function to reverse a list of numbers."
   ]
  },
  {
   "cell_type": "code",
   "execution_count": 13,
   "metadata": {},
   "outputs": [
    {
     "name": "stdout",
     "output_type": "stream",
     "text": [
      "Reversed list : [7, 6, 5, 4, 3, 2, 1]\n"
     ]
    }
   ],
   "source": [
    "def reverse(list):\n",
    "    return list[::-1]\n",
    "\n",
    "\n",
    "list = [1, 2, 3, 4, 5, 6, 7]\n",
    "print(f\"Reversed list : {reverse(list)}\")\n"
   ]
  },
  {
   "attachments": {},
   "cell_type": "markdown",
   "metadata": {},
   "source": [
    "Problem Name: Write a Python program to find and print the key with the maximum value in a\n",
    "dictionary."
   ]
  },
  {
   "cell_type": "code",
   "execution_count": 14,
   "metadata": {},
   "outputs": [
    {
     "name": "stdout",
     "output_type": "stream",
     "text": [
      "Key with maximum value : b\n"
     ]
    }
   ],
   "source": [
    "def maxkey(dictionary):\n",
    "    max_value = 0\n",
    "    max_key = None\n",
    "    for key, value in dictionary.items():\n",
    "        if value > max_value:\n",
    "            max_value = value\n",
    "            max_key = key\n",
    "    return max_key\n",
    "\n",
    "\n",
    "dictionary = {'a': 10, 'b': 30, 'c': 20}\n",
    "key = maxkey(dictionary)\n",
    "print(f\"Key with maximum value : {key}\")\n"
   ]
  },
  {
   "attachments": {},
   "cell_type": "markdown",
   "metadata": {},
   "source": [
    "Problem Name: Write a Python program to merge two dictionaries and create a new dictionary."
   ]
  },
  {
   "cell_type": "code",
   "execution_count": 15,
   "metadata": {},
   "outputs": [
    {
     "name": "stdout",
     "output_type": "stream",
     "text": [
      "Merged dictionary : {'a': 4, 'b': 7, 'c': 10, 'x': 3, 'y': 4, 'z': 5}\n"
     ]
    }
   ],
   "source": [
    "def marge(dict1, dict2):\n",
    "    dict = {}\n",
    "    dict.update(dict1)\n",
    "    dict.update(dict2)\n",
    "    return dict\n",
    "\n",
    "\n",
    "dict1 = {'a': 4, 'b': 7, 'c': 10}\n",
    "dict2 = {'x': 3, 'y': 4, 'z': 5}\n",
    "merged_dict = marge(dict1, dict2)\n",
    "print(f\"Merged dictionary : {merged_dict}\")\n"
   ]
  },
  {
   "attachments": {},
   "cell_type": "markdown",
   "metadata": {},
   "source": [
    "Problem Name: Given a list of dictionaries, you want to sort them based on a specific key 'age' in each dictionary. Write a lambda function as the key parameter in the sorted() function to achieve this."
   ]
  },
  {
   "cell_type": "code",
   "execution_count": 18,
   "metadata": {},
   "outputs": [
    {
     "name": "stdout",
     "output_type": "stream",
     "text": [
      "[{'name': 'Nahid', 'age': 20}, {'name': 'Zamshed', 'age': 25}, {'name': 'Mahbubur', 'age': 30}]\n"
     ]
    }
   ],
   "source": [
    "people = [\n",
    "    {'name': 'Zamshed', 'age': 25},\n",
    "    {'name': 'Mahbubur', 'age': 30},\n",
    "    {'name': 'Nahid', 'age': 20}\n",
    "]\n",
    "\n",
    "sort = sorted(people, key=lambda x: x['age'])\n",
    "print(sort)\n"
   ]
  },
  {
   "cell_type": "code",
   "execution_count": null,
   "metadata": {},
   "outputs": [],
   "source": []
  }
 ],
 "metadata": {
  "kernelspec": {
   "display_name": "Python 3",
   "language": "python",
   "name": "python3"
  },
  "language_info": {
   "codemirror_mode": {
    "name": "ipython",
    "version": 3
   },
   "file_extension": ".py",
   "mimetype": "text/x-python",
   "name": "python",
   "nbconvert_exporter": "python",
   "pygments_lexer": "ipython3",
   "version": "3.9.0"
  },
  "orig_nbformat": 4,
  "vscode": {
   "interpreter": {
    "hash": "1d5c1156327dacead463cc502c55ebae8ce9c8c01979cf154173ff808e75bf55"
   }
  }
 },
 "nbformat": 4,
 "nbformat_minor": 2
}
